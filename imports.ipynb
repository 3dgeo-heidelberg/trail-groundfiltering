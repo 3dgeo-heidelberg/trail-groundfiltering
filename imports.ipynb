{
 "cells": [
  {
   "cell_type": "markdown",
   "id": "588d97fa",
   "metadata": {},
   "source": [
    "# Imports"
   ]
  },
  {
   "cell_type": "markdown",
   "id": "76a866c4",
   "metadata": {},
   "source": [
    "This notebook tests if the installation was successful by importing the required libraries."
   ]
  },
  {
   "cell_type": "code",
   "execution_count": 1,
   "id": "086034ad",
   "metadata": {},
   "outputs": [],
   "source": [
    "# imports\n",
    "import pyhelios\n",
    "import afwizard\n",
    "import numpy\n",
    "import matplotlib\n",
    "from osgeo import gdal\n",
    "import rasterio as rio\n",
    "import laspy"
   ]
  },
  {
   "cell_type": "code",
   "execution_count": null,
   "id": "21ca67e1-78cb-44bf-aae4-ba5fa11abfac",
   "metadata": {},
   "outputs": [],
   "source": []
  }
 ],
 "metadata": {
  "kernelspec": {
   "display_name": "Python 3 (ipykernel)",
   "language": "python",
   "name": "python3"
  },
  "language_info": {
   "codemirror_mode": {
    "name": "ipython",
    "version": 3
   },
   "file_extension": ".py",
   "mimetype": "text/x-python",
   "name": "python",
   "nbconvert_exporter": "python",
   "pygments_lexer": "ipython3",
   "version": "3.13.7"
  },
  "widgets": {
   "application/vnd.jupyter.widget-state+json": {
    "state": {
     "9d7057ccadb642b2b348d79d6808906c": {
      "model_module": "@jupyter-widgets/base",
      "model_module_version": "2.0.0",
      "model_name": "LayoutModel",
      "state": {
       "width": "100%"
      }
     },
     "a51f2947128844c9a51ab88d0c579974": {
      "model_module": "@jupyter-widgets/base",
      "model_module_version": "2.0.0",
      "model_name": "LayoutModel",
      "state": {
       "width": "500px"
      }
     }
    },
    "version_major": 2,
    "version_minor": 0
   }
  }
 },
 "nbformat": 4,
 "nbformat_minor": 5
}
