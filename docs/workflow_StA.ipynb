{
 "cells": [
  {
   "cell_type": "markdown",
   "id": "b2e60cc8-0336-46c5-b721-0c3194816faf",
   "metadata": {},
   "source": [
    "# Study case 2: Monastery St. Anna & Scharfeneck Ruin, AT"
   ]
  },
  {
   "cell_type": "markdown",
   "id": "49f6ff9f-2ed4-414a-b31a-38f4508ff90c",
   "metadata": {},
   "source": [
    "## About the dataset\n",
    "\n",
    "This LiDAR dataset covers an area in the nature park Mannersdorf-Wüste in Eastern Austria and includes the monastery St. Anna and the Scharfeneck Ruin. It has a point density of approximately 9 pts/m$^2$."
   ]
  },
  {
   "cell_type": "markdown",
   "id": "43e5062e-c64b-4d22-946e-6cab1e792dbf",
   "metadata": {
    "tags": []
   },
   "source": [
    "## 1. Import `afwizard`, set parameters and load your dataset\n",
    "First, we import the afwizard library:"
   ]
  },
  {
   "cell_type": "code",
   "execution_count": 1,
   "id": "c38b8951-5a82-4ac1-87fe-d02b3021eef4",
   "metadata": {},
   "outputs": [],
   "source": [
    "import afwizard as af"
   ]
  },
  {
   "cell_type": "markdown",
   "id": "04908407-374b-43b2-a843-3afff77d422d",
   "metadata": {},
   "source": [
    "Now, we have to set the LAStools directory to the path where we installed LAStools. This may be a different location on your computer, so you will have to provide the correct path:"
   ]
  },
  {
   "cell_type": "code",
   "execution_count": 2,
   "id": "71bb248c-3743-4e1d-9638-5a2e81c99fd5",
   "metadata": {},
   "outputs": [],
   "source": [
    "af.set_lastools_directory(\"C:/LAStools\")  # \"C:/LAStools\""
   ]
  },
  {
   "cell_type": "markdown",
   "id": "92ac6fea-9fe5-42c2-8195-546444407810",
   "metadata": {},
   "source": [
    "The next steps are to create the directory \"filters\", where we will later save our developed filter pipelines. After that, we set the directory where the input data is located and where the output data will be written. In case, the directory is not existing, it will be created. "
   ]
  },
  {
   "cell_type": "code",
   "execution_count": 3,
   "id": "ab12339b-6dbc-495f-928b-f214597824bd",
   "metadata": {},
   "outputs": [],
   "source": [
    "af.set_data_directory(\"filters\", create_dir=True)"
   ]
  },
  {
   "cell_type": "code",
   "execution_count": 4,
   "id": "4ceabcac-dda0-431c-a508-4c4ed7a59c0d",
   "metadata": {},
   "outputs": [],
   "source": [
    "af.set_data_directory(\"data\", create_dir=True)"
   ]
  },
  {
   "cell_type": "markdown",
   "id": "665109c9-f6a3-4e25-aac0-7ebc648ea86a",
   "metadata": {},
   "source": [
    "Now we can load our first dataset by file name and additionally provide the spatial reference system. Make sure that the data are copied to your data directory specified just before. "
   ]
  },
  {
   "cell_type": "code",
   "execution_count": 5,
   "id": "63c204cb-a638-44c9-9a9a-6306f7fad2aa",
   "metadata": {
    "tags": []
   },
   "outputs": [],
   "source": [
    "ds = af.DataSet(filename=\"StA_last.laz\", spatial_reference=\"EPSG:31256\")"
   ]
  },
  {
   "cell_type": "markdown",
   "id": "f3397fab-1107-4c26-9988-00f0f49ed71b",
   "metadata": {},
   "source": [
    "We remove any existing classification from the dataset."
   ]
  },
  {
   "cell_type": "code",
   "execution_count": 6,
   "id": "1102fcab-fa2e-41e3-bde8-660707fb0a5c",
   "metadata": {},
   "outputs": [],
   "source": [
    "ds = af.remove_classification(ds)"
   ]
  },
  {
   "cell_type": "markdown",
   "id": "fe76be66-7b75-463d-9897-fbc82a064e7d",
   "metadata": {
    "tags": []
   },
   "source": [
    "### 2. Restricting datasets"
   ]
  },
  {
   "cell_type": "markdown",
   "id": "8294616e-91f5-4e96-a978-24628d407f45",
   "metadata": {},
   "source": [
    "In the case of this dataset, there is only one segment. Still, we have to load a GeoJSON file containing a pre-prepared segmentation (in this case with just one segment) of the LiDAR tile. In case you want to produce your own segmentation, you can use e.g. QGIS: create a shapefile, draw the segments (the shapes must not overlap and there must not be areas in your dataset not covered by a segment) and export the Shapefile as GeoJSON. "
   ]
  },
  {
   "cell_type": "code",
   "execution_count": 7,
   "id": "f383fa3f-6250-4285-a105-53808979bc5b",
   "metadata": {},
   "outputs": [],
   "source": [
    "segmentation = af.load_segmentation(\n",
    "    \"StA_segment.geojson\", spatial_reference=\"EPSG:31256\"\n",
    ")"
   ]
  },
  {
   "cell_type": "markdown",
   "id": "c8111f5c-9777-4ef9-b2c3-bc9e2ed073fd",
   "metadata": {},
   "source": [
    "Since the segments in the segmentation may cover large areas and contain many points, we sample our segments using the `restrict` method of `afwizard`. This will make the process of creating filter pipelines much faster! \n",
    "The aim is to select characteristic subareas, one for each segment running following command. The command will open a GUI showing the segments on a map. If you want to see a draft hillshade version of the DTM, click on \"Visualize\". \n",
    "\n",
    "Click the small polygon on the sidebar on the left to draw a segmentation polygon for the land area. When you are done, finish by clicking \"Finalize\". Your restricted dataset is then saved to the variable `rds`. Save the data by executing the next code cell (saved = rds.save(...)). Then repeat the `restrict` and the `save` step for the water area as well. For the water area, change the filename to `\"data/sample_uw.las\"` when saving."
   ]
  },
  {
   "cell_type": "code",
   "execution_count": 8,
   "id": "d8b985d8-e6b7-41ba-ba4f-13413a75d068",
   "metadata": {
    "tags": []
   },
   "outputs": [
    {
     "data": {
      "application/vnd.jupyter.widget-view+json": {
       "model_id": "046a7dcde56d4b69bb53369129995ab2",
       "version_major": 2,
       "version_minor": 0
      },
      "text/plain": [
       "AppLayout(children=(VBox(children=(Button(description='Finalize', layout=Layout(grid_area='center', width='100…"
      ]
     },
     "metadata": {},
     "output_type": "display_data"
    }
   ],
   "source": [
    "rds = ds.restrict(segmentation_overlay=segmentation)"
   ]
  },
  {
   "cell_type": "code",
   "execution_count": 9,
   "id": "0e9029eb-95aa-42e6-b17f-7c85ddf6b835",
   "metadata": {},
   "outputs": [],
   "source": [
    "saved = rds.save(\"data/sample_StA.las\", overwrite=True)"
   ]
  },
  {
   "cell_type": "markdown",
   "id": "d8b55610-e184-4cc8-b663-3e7817dd0533",
   "metadata": {},
   "source": [
    "### 3. Creating Filter Pipelines"
   ]
  },
  {
   "cell_type": "markdown",
   "id": "65ad0382-91da-4b28-80dc-8a750d36493d",
   "metadata": {},
   "source": [
    "Now we can create a filter pipelines for the restricted dataset we created before. This is done using the interactive `pipeline_tuning` function. Here, you can select from different outlier filtering and ground filtering algorithms and combine them in a sequential filter pipeline. You can preview the result of different versions of your pipelines and delete filtering steps if it turns out they are not needed or need different settings. "
   ]
  },
  {
   "cell_type": "code",
   "execution_count": 10,
   "id": "9dbe6241-f04b-48a8-878d-90e71be37a0d",
   "metadata": {},
   "outputs": [],
   "source": [
    "sampledataset1 = af.DataSet(filename=\"data/sample_StA.las\", spatial_reference=\"EPSG:31256\")"
   ]
  },
  {
   "cell_type": "markdown",
   "id": "7d262e82-a513-4682-b9b4-94635c754415",
   "metadata": {},
   "source": [
    "The following command will open the GUI for creating a filter pipeline. In the centre, the point cloud of the spatial sample is visualized as hillshade, slope or a combination of both. Visualization settings can be tuned using the fields in the right column. \n",
    "\n",
    "In the center, a tab (#0) with an image is displayed showing the unclassified data as hillshade.\n",
    "\n",
    "In the left column, a filter can be added to the pipeline. Click on \"Pipeline stages\" and then on \"+ Add entry\" and select the filter algorithm of your choice (here: lasground_new (LASTools)). Finally, you can set the parameters (offset, spike, step). Here, we let them at their defaut values. (0, 0.5, 1). Clicking \"Preview\" button on top of the right column will trigger the filtering of the sample using the current filter and parameter strings and display the result as a new window in tab \"#1\" in the centre column (with the preset hillshade at 45° altitude and 0.2 m resolution)."
   ]
  },
  {
   "cell_type": "code",
   "execution_count": 11,
   "id": "c0e61b2a-1bac-473f-95f3-3991f2ec2d70",
   "metadata": {},
   "outputs": [
    {
     "data": {
      "application/vnd.jupyter.widget-view+json": {
       "model_id": "79713ef7a99c44248501dc2d8244261c",
       "version_major": 2,
       "version_minor": 0
      },
      "text/plain": [
       "AppLayout(children=(Accordion(children=(LoggingOutputWidget(outputs=({'name': 'stdout', 'output_type': 'stream…"
      ]
     },
     "metadata": {},
     "output_type": "display_data"
    }
   ],
   "source": [
    "pipeline1 = af.pipeline_tuning(sampledataset1)"
   ]
  },
  {
   "cell_type": "code",
   "execution_count": 12,
   "id": "77411e17-d5b1-419b-a1da-21f4cea2b74b",
   "metadata": {},
   "outputs": [],
   "source": [
    "af.save_filter(pipeline1, \"filters/StA_woodland.json\")"
   ]
  },
  {
   "cell_type": "markdown",
   "id": "f8d3b6a7-f440-4d59-9fd6-62b21da3f0fd",
   "metadata": {},
   "source": [
    "### 4. Mapping segmentations to Filter Pipelines"
   ]
  },
  {
   "cell_type": "markdown",
   "id": "a3c6fd3e-40bf-483c-9235-b28acd4131e8",
   "metadata": {},
   "source": [
    "Now we map the created filter pipelines to the segmentations."
   ]
  },
  {
   "cell_type": "code",
   "execution_count": 13,
   "id": "44778abd-069e-4859-bbd1-cc3f788357d2",
   "metadata": {},
   "outputs": [],
   "source": [
    "af.add_filter_library(path=\"filters\", recursive=False)"
   ]
  },
  {
   "cell_type": "markdown",
   "id": "5f18d83f-14fd-4653-b3a1-b006d11ab4f8",
   "metadata": {},
   "source": [
    "Using the selection window below, select the pipeline you created before. Finish the interactive step by clicking \"Finalize\"."
   ]
  },
  {
   "cell_type": "code",
   "execution_count": 14,
   "id": "88d9508b-c9c4-42a9-97ab-4db666fea0ae",
   "metadata": {},
   "outputs": [
    {
     "data": {
      "application/vnd.jupyter.widget-view+json": {
       "model_id": "4a40cae553c44c76b07fefb407b5e8fd",
       "version_major": 2,
       "version_minor": 0
      },
      "text/plain": [
       "AppLayout(children=(Accordion(children=(VBox(children=(Checkbox(value=True, description='c:\\\\Users\\\\Michael\\\\m…"
      ]
     },
     "metadata": {},
     "output_type": "display_data"
    }
   ],
   "source": [
    "pipelines = af.select_pipeline_from_library(\"filters\")"
   ]
  },
  {
   "cell_type": "markdown",
   "id": "0118bf86-84ee-445e-8091-fa781c9dd42d",
   "metadata": {},
   "source": [
    "In this stage, you select which pipeline to assign to which segment. As we have only one segment, on the top right, you leave the dropdown menu to \"ID\". In the dropdown menu below the segment, select the corresponding filter you created. When you are done with assigning, click \"Finalize\". Then run the next code cell to save the segments together with their assigned filter pipeline."
   ]
  },
  {
   "cell_type": "code",
   "execution_count": 15,
   "id": "09e976ba-9142-43c2-a2d6-b6e402efd64a",
   "metadata": {},
   "outputs": [
    {
     "data": {
      "application/vnd.jupyter.widget-view+json": {
       "model_id": "ab0aa52c807547088cd663dd6b364ef6",
       "version_major": 2,
       "version_minor": 0
      },
      "text/plain": [
       "AppLayout(children=(VBox(children=(Button(description='Finalize', layout=Layout(grid_area='center', width='100…"
      ]
     },
     "metadata": {},
     "output_type": "display_data"
    }
   ],
   "source": [
    "assigned_segmentation = af.assign_pipeline(\n",
    "    ds, segmentation=segmentation, pipelines=pipelines\n",
    ")"
   ]
  },
  {
   "cell_type": "code",
   "execution_count": 16,
   "id": "30ae084e-b921-4313-8ae6-2d4638e5383c",
   "metadata": {},
   "outputs": [],
   "source": [
    "assigned_segmentation.save(\"data/StA_segments_assigned.geojson\")"
   ]
  },
  {
   "cell_type": "markdown",
   "id": "4db647b6-8dba-4323-86bb-4b218cdbf097",
   "metadata": {},
   "source": [
    "### 5. Adaptive Filteriung by Running AFwizard  "
   ]
  },
  {
   "cell_type": "markdown",
   "id": "9106a7b0-928a-4c89-907c-8b94374154be",
   "metadata": {},
   "source": [
    "Finally, the adaptive filtering has to be calculated. This is done on a command line basis. Therefore, a Terminal has to be opened by clicking in the launcher-window on Terminal.\n",
    "In the example below prompt shows ...projects\\data:\n",
    "Filesystgem is: \n",
    "projects\\data\\\n",
    "projects\\filters\n",
    "\n",
    "- filename StA_last.laz is in directory \"data\"\n",
    "- filename StA_segments_assigned.geojson is in directory \"data\"\n",
    "- Directory \"oputput\" will be created in projects\\data\\output\n",
    "- filters are stored in ptrojects\\filters\n",
    "\n",
    "afwizard --dataset=StA_last.laz --dataset-crs=EPSG:31256 --segmentation=StA_segment_assigned.geojson --segmentation-crs=EPSG:31256 --output-dir=output --library filters --lastools-dir=\"c:\\LAStools\""
   ]
  },
  {
   "cell_type": "code",
   "execution_count": 17,
   "id": "9e8a1128-6ead-49ad-beff-5dbaa55ad000",
   "metadata": {},
   "outputs": [
    {
     "name": "stderr",
     "output_type": "stream",
     "text": [
      "C:\\Users\\Michael\\miniforge3\\envs\\afwizard\\Lib\\site-packages\\osgeo\\gdal.py:330: FutureWarning: Neither gdal.UseExceptions() nor gdal.DontUseExceptions() has been explicitly called. In GDAL 4.0, exceptions will be enabled by default.\n",
      "  warnings.warn(\n"
     ]
    }
   ],
   "source": [
    "!afwizard --dataset=data/StA_last.laz --dataset-crs=EPSG:31256 --segmentation=data/StA_segments_assigned.geojson --segmentation-crs=EPSG:31256 --output-dir=data/output --library filters --lastools-dir=\"C:/LAStools\""
   ]
  },
  {
   "cell_type": "code",
   "execution_count": null,
   "id": "f5a2e7c7-22b4-4a8f-9205-3e19ab5e2348",
   "metadata": {},
   "outputs": [],
   "source": []
  }
 ],
 "metadata": {
  "kernelspec": {
   "display_name": "Python 3 (ipykernel)",
   "language": "python",
   "name": "python3"
  },
  "language_info": {
   "codemirror_mode": {
    "name": "ipython",
    "version": 3
   },
   "file_extension": ".py",
   "mimetype": "text/x-python",
   "name": "python",
   "nbconvert_exporter": "python",
   "pygments_lexer": "ipython3",
   "version": "3.13.7"
  },
  "widgets": {
   "application/vnd.jupyter.widget-state+json": {
    "state": {
     "00d76da9e98b48399f8ab5e5bdcfd016": {
      "model_module": "@jupyter-widgets/controls",
      "model_module_version": "2.0.0",
      "model_name": "LabelModel",
      "state": {
       "layout": "IPY_MODEL_ed7f7d6c06884cb0a9be1633475a8228",
       "style": "IPY_MODEL_15b8f593259c423fb0f78fe0295cddbe",
       "value": "Angle Altitude (0 to 90 degrees)"
      }
     },
     "01bf15445a8840f5b6ccc8c46d0ff31d": {
      "model_module": "@jupyter-widgets/controls",
      "model_module_version": "2.0.0",
      "model_name": "ButtonStyleModel",
      "state": {
       "font_family": null,
       "font_size": null,
       "font_style": null,
       "font_variant": null,
       "font_weight": null,
       "text_color": null,
       "text_decoration": null
      }
     },
     "02115963ce024822ba1957cfbc90c022": {
      "model_module": "@jupyter-widgets/controls",
      "model_module_version": "2.0.0",
      "model_name": "VBoxModel",
      "state": {
       "children": [
        "IPY_MODEL_1fe8d8a6980e4925a143e0a90da84295",
        "IPY_MODEL_627ba29bcf0445c982cbd360dd30e85b"
       ],
       "layout": "IPY_MODEL_b342bb7b2d2f4d54a831cf4e821b9601"
      }
     },
     "02756ffc2e2b4b09b9d2baaf583fa982": {
      "model_module": "@jupyter-widgets/controls",
      "model_module_version": "2.0.0",
      "model_name": "TextStyleModel",
      "state": {
       "description_width": "",
       "font_size": null,
       "text_color": null
      }
     },
     "030f52aa0a2541068ed8ebc894bc95c7": {
      "model_module": "@jupyter-widgets/controls",
      "model_module_version": "2.0.0",
      "model_name": "FloatTextModel",
      "state": {
       "layout": "IPY_MODEL_db772f0ad8ee4cd18fc1c312691da285",
       "step": null,
       "style": "IPY_MODEL_5a3fbc9da67c4a8c9de961dd3e6ae045",
       "tooltip": "Raster resolution",
       "value": 0.5
      }
     },
     "03442abb21f14e079b4869b204eec485": {
      "model_module": "jupyter-leaflet",
      "model_module_version": "^0.20",
      "model_name": "LeafletGeoJSONModel",
      "state": {
       "_model_module_version": "^0.20",
       "_view_module_version": "^0.20",
       "data": {
        "features": [
         {
          "geometry": {
           "coordinates": [
            [
             [
              16.605253938955347,
              47.94760388101288
             ],
             [
              16.605283002041972,
              47.94762073970476
             ],
             [
              16.605326596671915,
              47.94760388101288
             ],
             [
              16.605370191301855,
              47.94762073970476
             ],
             [
              16.60582066914457,
              47.94762073970476
             ],
             [
              16.605849732231196,
              47.94760388101288
             ],
             [
              16.605893326861136,
              47.94762073970476
             ],
             [
              16.60599504766433,
              47.94762073970476
             ],
             [
              16.60602411075096,
              47.94760388101288
             ],
             [
              16.606082236924212,
              47.94760388101288
             ],
             [
              16.60611130001084,
              47.94762073970476
             ],
             [
              16.60625661544397,
              47.94762073970476
             ],
             [
              16.606285678530597,
              47.94760388101288
             ],
             [
              16.606430993963734,
              47.94760388101288
             ],
             [
              16.60646005705036,
              47.94762073970476
             ],
             [
              16.606503651680303,
              47.94760388101288
             ],
             [
              16.606561777853553,
              47.94760388101288
             ],
             [
              16.606590840940182,
              47.94762073970476
             ],
             [
              16.606736156373316,
              47.94762073970476
             ],
             [
              16.60676521945994,
              47.94760388101288
             ],
             [
              16.606997724152958,
              47.94760388101288
             ],
             [
              16.607026787239583,
              47.94762073970476
             ],
             [
              16.607172102672717,
              47.94762073970476
             ],
             [
              16.607201165759346,
              47.94760388101288
             ],
             [
              16.60724476038929,
              47.94762073970476
             ],
             [
              16.60734648119248,
              47.94762073970476
             ],
             [
              16.60737554427911,
              47.94760388101288
             ],
             [
              16.607419138909044,
              47.94762073970476
             ],
             [
              16.607520859712242,
              47.94762073970476
             ],
             [
              16.607549922798867,
              47.94760388101288
             ],
             [
              16.60760804897212,
              47.94760388101288
             ],
             [
              16.60765164360206,
              47.94762073970476
             ],
             [
              16.607695238232,
              47.94760388101288
             ],
             [
              16.60772430131863,
              47.94762073970476
             ],
             [
              16.607826022121824,
              47.94762073970476
             ],
             [
              16.60785508520845,
              47.94760388101288
             ],
             [
              16.607913211381703,
              47.94760388101288
             ],
             [
              16.60794227446833,
              47.94763759839115
             ],
             [
              16.60794227446833,
              47.94790733662537
             ],
             [
              16.607913211381703,
              47.94792419521826
             ],
             [
              16.60794227446833,
              47.94794105380567
             ],
             [
              16.607935008696675,
              47.95054563950211
             ],
             [
              16.6079640717833,
              47.9505624972344
             ],
             [
              16.607935008696675,
              47.9505962126825
             ],
             [
              16.6079640717833,
              47.950613070398305
             ],
             [
              16.6079640717833,
              47.95064678581342
             ],
             [
              16.607935008696675,
              47.95066364351272
             ],
             [
              16.6079640717833,
              47.95068050120652
             ],
             [
              16.607935008696675,
              47.95071421657763
             ],
             [
              16.6079640717833,
              47.95073107425494
             ],
             [
              16.607935008696675,
              47.95074793192675
             ],
             [
              16.6079640717833,
              47.95076478959306
             ],
             [
              16.6079640717833,
              47.950815362559
             ],
             [
              16.607935008696675,
              47.95083222020331
             ],
             [
              16.6079640717833,
              47.95084907784212
             ],
             [
              16.607935008696675,
              47.95086593547544
             ],
             [
              16.6079640717833,
              47.950882793103254
             ],
             [
              16.6079640717833,
              47.951000796344005
             ],
             [
              16.607935008696675,
              47.95101765392783
             ],
             [
              16.6079640717833,
              47.95103451150615
             ],
             [
              16.6079640717833,
              47.951068226646306
             ],
             [
              16.607935008696675,
              47.95108508420813
             ],
             [
              16.6079640717833,
              47.95110194176446
             ],
             [
              16.6079640717833,
              47.95123680201714
             ],
             [
              16.607935008696675,
              47.95125365952398
             ],
             [
              16.6079640717833,
              47.951270517025314
             ],
             [
              16.607956806011646,
              47.95438063192198
             ],
             [
              16.60781149057851,
              47.95438063192198
             ],
             [
              16.60776789594857,
              47.95436377543519
             ],
             [
              16.60773883286194,
              47.95438063192198
             ],
             [
              16.604999636947362,
              47.95437220367927
             ],
             [
              16.604956042317422,
              47.9543890601633
             ],
             [
              16.604912447687482,
              47.95437220367927
             ],
             [
              16.604883384600853,
              47.9543890601633
             ],
             [
              16.6048252584276,
              47.9543890601633
             ],
             [
              16.60479619534097,
              47.95437220367927
             ],
             [
              16.60473806916772,
              47.95437220367927
             ],
             [
              16.60470900608109,
              47.9543890601633
             ],
             [
              16.604476501388078,
              47.9543890601633
             ],
             [
              16.604432906758138,
              47.95437220367927
             ],
             [
              16.6043893121282,
              47.9543890601633
             ],
             [
              16.60434571749826,
              47.95437220367927
             ],
             [
              16.604316654411633,
              47.9543890601633
             ],
             [
              16.601490269237168,
              47.95438063192198
             ],
             [
              16.601461206150542,
              47.95439748840326
             ],
             [
              16.60135948534735,
              47.95439748840326
             ],
             [
              16.601330422260723,
              47.95438063192198
             ],
             [
              16.60128682763078,
              47.95439748840326
             ],
             [
              16.60124323300084,
              47.95438063192198
             ],
             [
              16.601199638370897,
              47.95439748840326
             ],
             [
              16.600792755158125,
              47.95439748840326
             ],
             [
              16.600749160528185,
              47.95438063192198
             ],
             [
              16.60072009744156,
              47.95439748840326
             ],
             [
              16.597806523007215,
              47.9543890601633
             ],
             [
              16.597762928377275,
              47.95440591664183
             ],
             [
              16.597719333747335,
              47.9543890601633
             ],
             [
              16.597690270660706,
              47.95440591664183
             ],
             [
              16.597544955227576,
              47.95440591664183
             ],
             [
              16.597501360597633,
              47.9543890601633
             ],
             [
              16.597472297511004,
              47.95440591664183
             ],
             [
              16.59741417133775,
              47.95440591664183
             ],
             [
              16.597385108251125,
              47.9543890601633
             ],
             [
              16.59732698207787,
              47.9543890601633
             ],
             [
              16.597297918991245,
              47.95440591664183
             ],
             [
              16.59723979281799,
              47.95440591664183
             ],
             [
              16.59723979281799,
              47.953259663575054
             ],
             [
              16.597210729731366,
              47.9532428067226
             ],
             [
              16.59723979281799,
              47.95322594986464
             ],
             [
              16.597210729731366,
              47.95320909300117
             ],
             [
              16.59723979281799,
              47.953175379257765
             ],
             [
              16.597210729731366,
              47.95315852237781
             ],
             [
              16.597210729731366,
              47.95307423789554
             ],
             [
              16.59723979281799,
              47.9530573809826
             ],
             [
              16.597210729731366,
              47.95304052406415
             ],
             [
              16.59723979281799,
              47.95300681021076
             ],
             [
              16.597210729731366,
              47.95298995327582
             ],
             [
              16.597210729731366,
              47.95266967046706
             ],
             [
              16.59723979281799,
              47.952652813422134
             ],
             [
              16.597210729731366,
              47.952635956371715
             ],
             [
              16.597210729731366,
              47.9525516710371
             ],
             [
              16.59723979281799,
              47.95253481395369
             ],
             [
              16.597210729731366,
              47.95250109977036
             ],
             [
              16.597217995503023,
              47.949036850191085
             ],
             [
              16.597188932416397,
              47.94901999196113
             ],
             [
              16.597217995503023,
              47.94900313372567
             ],
             [
              16.597217995503023,
              47.94893570072884
             ],
             [
              16.597188932416397,
              47.948918842465886
             ],
             [
              16.597188932416397,
              47.94885140935908
             ],
             [
              16.597217995503023,
              47.94883455106863
             ],
             [
              16.597188932416397,
              47.948800834471236
             ],
             [
              16.597217995503023,
              47.948783976164286
             ],
             [
              16.597188932416397,
              47.948767117851844
             ],
             [
              16.597217995503023,
              47.9487502595339
             ],
             [
              16.597188932416397,
              47.948733401210454
             ],
             [
              16.597217995503023,
              47.94869968454707
             ],
             [
              16.597188932416397,
              47.94866596786169
             ],
             [
              16.597217995503023,
              47.94864910951075
             ],
             [
              16.597217995503023,
              47.94858167605201
             ],
             [
              16.597188932416397,
              47.94856481767357
             ],
             [
              16.597217995503023,
              47.94854795928964
             ],
             [
              16.597217995503023,
              47.94851424250527
             ],
             [
              16.597188932416397,
              47.94849738410484
             ],
             [
              16.597217995503023,
              47.948463667287484
             ],
             [
              16.597188932416397,
              47.94842995044813
             ],
             [
              16.597217995503023,
              47.9484130920202
             ],
             [
              16.597188932416397,
              47.94837937514786
             ],
             [
              16.597188932416397,
              47.94834565825351
             ],
             [
              16.597217995503023,
              47.94832879979809
             ],
             [
              16.597188932416397,
              47.94829508287075
             ],
             [
              16.597217995503023,
              47.94826136592142
             ],
             [
              16.597217995503023,
              47.94822764895009
             ],
             [
              16.597188932416397,
              47.94821079045618
             ],
             [
              16.597188932416397,
              47.94817707345185
             ],
             [
              16.597217995503023,
              47.94816021494144
             ],
             [
              16.597188932416397,
              47.948143356425525
             ],
             [
              16.597217995503023,
              47.94810963937721
             ],
             [
              16.597188932416397,
              47.94807592230689
             ],
             [
              16.597188932416397,
              47.94804220521458
             ],
             [
              16.597217995503023,
              47.94802534666018
             ],
             [
              16.597188932416397,
              47.94800848810027
             ],
             [
              16.597188932416397,
              47.94797477096398
             ],
             [
              16.597217995503023,
              47.94795791238757
             ],
             [
              16.597188932416397,
              47.94792419521826
             ],
             [
              16.597217995503023,
              47.94789047802697
             ],
             [
              16.597217995503023,
              47.94785676081369
             ],
             [
              16.597188932416397,
              47.9478399021988
             ],
             [
              16.597188932416397,
              47.94780618495251
             ],
             [
              16.597217995503023,
              47.94778932632112
             ],
             [
              16.597217995503023,
              47.94775560904184
             ],
             [
              16.597188932416397,
              47.947738750393945
             ],
             [
              16.597188932416397,
              47.947671315747414
             ],
             [
              16.597217995503023,
              47.94763759839115
             ],
             [
              16.5978428518655,
              47.94763759839115
             ],
             [
              16.597871914952126,
              47.94762073970476
             ],
             [
              16.597915509582066,
              47.94763759839115
             ],
             [
              16.59810441964514,
              47.94763759839115
             ],
             [
              16.598133482731768,
              47.94762073970476
             ],
             [
              16.598177077361708,
              47.94763759839115
             ],
             [
              16.598235203534962,
              47.94763759839115
             ],
             [
              16.59826426662159,
              47.94762073970476
             ],
             [
              16.598307861251527,
              47.94763759839115
             ],
             [
              16.598365987424785,
              47.94763759839115
             ],
             [
              16.59839505051141,
              47.94762073970476
             ],
             [
              16.598438645141346,
              47.94763759839115
             ],
             [
              16.598583960574484,
              47.94763759839115
             ],
             [
              16.59861302366111,
              47.94762073970476
             ],
             [
              16.59865661829105,
              47.94763759839115
             ],
             [
              16.598889122984065,
              47.94763759839115
             ],
             [
              16.598918186070694,
              47.94762073970476
             ],
             [
              16.59897631224395,
              47.94762073970476
             ],
             [
              16.599005375330574,
              47.94763759839115
             ],
             [
              16.599063501503828,
              47.94763759839115
             ],
             [
              16.599092564590453,
              47.94762073970476
             ],
             [
              16.599136159220393,
              47.94763759839115
             ],
             [
              16.599179753850333,
              47.94762073970476
             ],
             [
              16.599237880023587,
              47.94762073970476
             ],
             [
              16.599266943110212,
              47.94763759839115
             ],
             [
              16.599310537740156,
              47.94762073970476
             ],
             [
              16.59936866391341,
              47.94762073970476
             ],
             [
              16.59939772700004,
              47.94763759839115
             ],
             [
              16.599441321629975,
              47.94762073970476
             ],
             [
              16.59949944780323,
              47.94762073970476
             ],
             [
              16.599528510889858,
              47.94763759839115
             ],
             [
              16.599572105519794,
              47.94762073970476
             ],
             [
              16.59963023169305,
              47.94762073970476
             ],
             [
              16.599659294779677,
              47.94763759839115
             ],
             [
              16.599702889409617,
              47.94762073970476
             ],
             [
              16.59980461021281,
              47.94762073970476
             ],
             [
              16.599833673299436,
              47.94763759839115
             ],
             [
              16.599891799472694,
              47.94763759839115
             ],
             [
              16.59992086255932,
              47.94762073970476
             ],
             [
              16.59996445718926,
              47.94763759839115
             ],
             [
              16.600008051819202,
              47.94762073970476
             ],
             [
              16.600153367252332,
              47.94762073970476
             ],
             [
              16.60018243033896,
              47.94763759839115
             ],
             [
              16.6002260249689,
              47.94762073970476
             ],
             [
              16.60026961959884,
              47.94763759839115
             ],
             [
              16.60031321422878,
              47.94762073970476
             ],
             [
              16.600414935031974,
              47.94762073970476
             ],
             [
              16.6004439981186,
              47.94763759839115
             ],
             [
              16.600487592748543,
              47.94762073970476
             ],
             [
              16.600589313551737,
              47.94762073970476
             ],
             [
              16.600618376638362,
              47.94763759839115
             ],
             [
              16.600661971268305,
              47.94762073970476
             ],
             [
              16.601199638370897,
              47.94762073970476
             ],
             [
              16.60124323300084,
              47.94763759839115
             ],
             [
              16.60127229608747,
              47.94762073970476
             ],
             [
              16.60148300346551,
              47.94762916904864
             ],
             [
              16.60151206655214,
              47.94761231035951
             ],
             [
              16.60155566118208,
              47.94762916904864
             ],
             [
              16.60172277393018,
              47.94762073970476
             ],
             [
              16.60175183701681,
              47.94763759839115
             ],
             [
              16.601795431646753,
              47.94762073970476
             ],
             [
              16.60183902627669,
              47.94763759839115
             ],
             [
              16.601882620906633,
              47.94762073970476
             ],
             [
              16.602049733654738,
              47.94762916904864
             ],
             [
              16.602078796741363,
              47.94761231035951
             ],
             [
              16.602136922914617,
              47.94761231035951
             ],
             [
              16.602165986001243,
              47.94762916904864
             ],
             [
              16.602267706804437,
              47.94762916904864
             ],
             [
              16.602296769891066,
              47.94761231035951
             ],
             [
              16.602340364521005,
              47.94762916904864
             ],
             [
              16.602398490694256,
              47.94762916904864
             ],
             [
              16.602427553780885,
              47.94761231035951
             ],
             [
              16.602471148410824,
              47.94762916904864
             ],
             [
              16.60270365310384,
              47.94762916904864
             ],
             [
              16.602732716190467,
              47.94761231035951
             ],
             [
              16.602776310820406,
              47.94762916904864
             ],
             [
              16.602819905450346,
              47.94761231035951
             ],
             [
              16.602863500080286,
              47.94762916904864
             ],
             [
              16.60300881551342,
              47.94762916904864
             ],
             [
              16.60303787860005,
              47.94761231035951
             ],
             [
              16.603081473229988,
              47.94762916904864
             ],
             [
              16.60312506785993,
              47.94761231035951
             ],
             [
              16.603183194033186,
              47.94761231035951
             ],
             [
              16.60321225711981,
              47.94762916904864
             ],
             [
              16.603313977923005,
              47.94762916904864
             ],
             [
              16.60334304100963,
              47.94761231035951
             ],
             [
              16.60338663563957,
              47.94762916904864
             ],
             [
              16.60343023026951,
              47.94761231035951
             ],
             [
              16.60347382489945,
              47.94762916904864
             ],
             [
              16.603517419529393,
              47.94761231035951
             ],
             [
              16.603619140332583,
              47.94761231035951
             ],
             [
              16.603648203419215,
              47.94762916904864
             ],
             [
              16.60369179804915,
              47.94761231035951
             ],
             [
              16.603967897372108,
              47.94761231035951
             ],
             [
              16.603996960458733,
              47.94762916904864
             ],
             [
              16.604040555088673,
              47.94761231035951
             ],
             [
              16.604142275891867,
              47.94761231035951
             ],
             [
              16.604171338978496,
              47.94762916904864
             ],
             [
              16.604360249041573,
              47.94762916904864
             ],
             [
              16.6043893121282,
              47.94761231035951
             ],
             [
              16.604491032931392,
              47.94761231035951
             ],
             [
              16.604520096018017,
              47.94762916904864
             ],
             [
              16.60457822219127,
              47.94762916904864
             ],
             [
              16.604607285277897,
              47.94761231035951
             ],
             [
              16.605210344325403,
              47.94762073970476
             ],
             [
              16.605253938955347,
              47.94760388101288
             ]
            ],
            [
             [
              16.602202314859525,
              47.95264438489761
             ],
             [
              16.602165986001243,
              47.95258538518745
             ],
             [
              16.602202314859525,
              47.95259381372159
             ],
             [
              16.602202314859525,
              47.95264438489761
             ]
            ],
            [
             [
              16.602165986001243,
              47.95268652750648
             ],
             [
              16.602122391371303,
              47.952635956371715
             ],
             [
              16.60215872022959,
              47.952627527844434
             ],
             [
              16.602165986001243,
              47.952652813422134
             ],
             [
              16.602209580631182,
              47.95266967046706
             ],
             [
              16.602165986001243,
              47.95268652750648
             ]
            ],
            [
             [
              16.60214418868627,
              47.95271181305531
             ],
             [
              16.60215872022959,
              47.952694956024125
             ],
             [
              16.602209580631182,
              47.952720241568834
             ],
             [
              16.602187783316214,
              47.95272867008098
             ],
             [
              16.60214418868627,
              47.95271181305531
             ]
            ]
           ],
           "type": "Polygon"
          },
          "properties": {
           "style": {
            "clickable": false,
            "color": "#add8e6",
            "fill": true,
            "opacity": 0.5,
            "stroke": true,
            "weight": 4
           }
          },
          "type": "Feature"
         }
        ],
        "spatial_reference": "EPSG:4326",
        "type": "Segmentation"
       },
       "name": "Boundary",
       "options": [
        "pm_ignore"
       ],
       "snap_ignore": true
      }
     },
     "046f1c5327f343f8bd8a158343fc365d": {
      "model_module": "@jupyter-widgets/controls",
      "model_module_version": "2.0.0",
      "model_name": "DescriptionStyleModel",
      "state": {
       "description_width": ""
      }
     },
     "05800576596947dcb5197d5b65f1c865": {
      "model_module": "@jupyter-widgets/controls",
      "model_module_version": "2.0.0",
      "model_name": "VBoxModel",
      "state": {
       "children": [
        "IPY_MODEL_91c56cfeb0624f4795d103d3f2bbefe5",
        "IPY_MODEL_9ffc3642ef31488896509954cd299644"
       ],
       "layout": "IPY_MODEL_7a4d9c174f5440d69b09884a94c4144f"
      }
     },
     "080043707ce64e84b0734fbf7581a153": {
      "model_module": "@jupyter-widgets/controls",
      "model_module_version": "2.0.0",
      "model_name": "LinkModel",
      "state": {
       "source": [
        "IPY_MODEL_3fb752cc344a46398f5f30cba084c26e",
        "value"
       ],
       "target": [
        "IPY_MODEL_5b67db10a1d741bdbcde44ddf124a5db",
        "zoom"
       ]
      }
     },
     "0904eaebf05a49618b33a195559ea71b": {
      "model_module": "@jupyter-widgets/base",
      "model_module_version": "2.0.0",
      "model_name": "LayoutModel",
      "state": {
       "width": "100%"
      }
     },
     "0e079e4d91e048ac964057d1164269df": {
      "model_module": "@jupyter-widgets/controls",
      "model_module_version": "2.0.0",
      "model_name": "FloatSliderModel",
      "state": {
       "behavior": "drag-tap",
       "layout": "IPY_MODEL_eb7981b1555e4f7d8ffc0ab546d270a1",
       "max": 360,
       "step": 0.1,
       "style": "IPY_MODEL_705642669f4a43b8a60a3ccb27e04c9c",
       "tooltip": "Azimuth of the light, in degrees. 0 if it comes from the top of the raster, 90 from the east, … The default value, 315, should rarely be changed as it is the value generally used to generate shaded maps.",
       "value": 315
      }
     },
     "0e9d626f490948d391ddc7d7844f6839": {
      "model_module": "@jupyter-widgets/controls",
      "model_module_version": "2.0.0",
      "model_name": "LabelStyleModel",
      "state": {
       "description_width": "",
       "font_family": null,
       "font_size": null,
       "font_style": null,
       "font_variant": null,
       "font_weight": null,
       "text_color": null,
       "text_decoration": null
      }
     },
     "10e730deb63e4e25981170197f062f5b": {
      "model_module": "@jupyter-widgets/controls",
      "model_module_version": "2.0.0",
      "model_name": "DescriptionStyleModel",
      "state": {
       "description_width": ""
      }
     },
     "1312a89af0bf4b2a885d8b38557d2172": {
      "model_module": "jupyter-leaflet",
      "model_module_version": "^0.20",
      "model_name": "LeafletZoomControlModel",
      "state": {
       "_model_module_version": "^0.20",
       "_view_module_version": "^0.20",
       "options": [
        "position",
        "zoom_in_text",
        "zoom_in_title",
        "zoom_out_text",
        "zoom_out_title"
       ]
      }
     },
     "155b4f9023ad47908543b1a55b07e040": {
      "model_module": "@jupyter-widgets/base",
      "model_module_version": "2.0.0",
      "model_name": "LayoutModel",
      "state": {
       "width": "100%"
      }
     },
     "15b8f593259c423fb0f78fe0295cddbe": {
      "model_module": "@jupyter-widgets/controls",
      "model_module_version": "2.0.0",
      "model_name": "LabelStyleModel",
      "state": {
       "description_width": "",
       "font_family": null,
       "font_size": null,
       "font_style": null,
       "font_variant": null,
       "font_weight": null,
       "text_color": null,
       "text_decoration": null
      }
     },
     "1720021e9ac340fb91176c8b388d335d": {
      "model_module": "@jupyter-widgets/base",
      "model_module_version": "2.0.0",
      "model_name": "LayoutModel",
      "state": {}
     },
     "177ee7651fc14ecc9bac64041aae4bbb": {
      "model_module": "@jupyter-widgets/base",
      "model_module_version": "2.0.0",
      "model_name": "LayoutModel",
      "state": {}
     },
     "1a285c8f75ab41d194d6081bc89d2ec8": {
      "model_module": "@jupyter-widgets/controls",
      "model_module_version": "2.0.0",
      "model_name": "LabelStyleModel",
      "state": {
       "description_width": "",
       "font_family": null,
       "font_size": null,
       "font_style": null,
       "font_variant": null,
       "font_weight": null,
       "text_color": null,
       "text_decoration": null
      }
     },
     "1ef5e2997fb24a7e9f76913f24247921": {
      "model_module": "@jupyter-widgets/base",
      "model_module_version": "2.0.0",
      "model_name": "LayoutModel",
      "state": {
       "width": "100%"
      }
     },
     "1f5b4955572d43e9a2898478b634a8cb": {
      "model_module": "@jupyter-widgets/base",
      "model_module_version": "2.0.0",
      "model_name": "LayoutModel",
      "state": {}
     },
     "1fe8d8a6980e4925a143e0a90da84295": {
      "model_module": "@jupyter-widgets/controls",
      "model_module_version": "2.0.0",
      "model_name": "LabelModel",
      "state": {
       "layout": "IPY_MODEL_4918437493e146269fb5e4f50d01b5c8",
       "style": "IPY_MODEL_d7ee7d744b4e40fb81e9fc70f3567b6d",
       "value": "Vertical exaggeration:"
      }
     },
     "21a5ffb6e69a4309803cbd28f045258b": {
      "model_module": "@jupyter-widgets/base",
      "model_module_version": "2.0.0",
      "model_name": "LayoutModel",
      "state": {}
     },
     "2420f285df1d416284e1abaae160f374": {
      "model_module": "@jupyter-widgets/base",
      "model_module_version": "2.0.0",
      "model_name": "LayoutModel",
      "state": {
       "width": "100%"
      }
     },
     "25c955a5144d448f9ae8c12fb192a139": {
      "model_module": "@jupyter-widgets/base",
      "model_module_version": "2.0.0",
      "model_name": "LayoutModel",
      "state": {
       "width": "100%"
      }
     },
     "26ad1c6c8270497799a41c2746994545": {
      "model_module": "@jupyter-widgets/controls",
      "model_module_version": "2.0.0",
      "model_name": "VBoxModel",
      "state": {
       "children": [
        "IPY_MODEL_75ee62001a574d1cb41deaa6407126da",
        "IPY_MODEL_935fe24afb624ce9a13514161ff6f7b2"
       ],
       "layout": "IPY_MODEL_155b4f9023ad47908543b1a55b07e040"
      }
     },
     "28f6698b33d247ec9eb2f63277bf708d": {
      "model_module": "@jupyter-widgets/controls",
      "model_module_version": "2.0.0",
      "model_name": "LabelStyleModel",
      "state": {
       "description_width": "",
       "font_family": null,
       "font_size": null,
       "font_style": null,
       "font_variant": null,
       "font_weight": null,
       "text_color": null,
       "text_decoration": null
      }
     },
     "2965ba7f03d84b37ba103629df60fc11": {
      "model_module": "@jupyter-widgets/controls",
      "model_module_version": "2.0.0",
      "model_name": "VBoxModel",
      "state": {
       "children": [
        "IPY_MODEL_9416b4714b4e4a838ab8ab4d730d22c0",
        "IPY_MODEL_3c56d11307b6476798043fd31c628aa2"
       ],
       "layout": "IPY_MODEL_ab7f8bfbc1164ccf85d99d31e58aff41"
      }
     },
     "2b4dac4119fa4ec6bf9da99f59d19057": {
      "model_module": "@jupyter-widgets/base",
      "model_module_version": "2.0.0",
      "model_name": "LayoutModel",
      "state": {}
     },
     "2f7ec50fd5464173b80cc0fb9a3c3d30": {
      "model_module": "jupyter-leaflet",
      "model_module_version": "^0.20",
      "model_name": "LeafletDrawControlModel",
      "state": {
       "_model_module_version": "^0.20",
       "_view_module_version": "^0.20",
       "options": [
        "position"
       ],
       "polygon": {
        "allowIntersection": false,
        "drawError": {
         "color": "#dd253b",
         "message": "Oups!",
         "timeout": 2500
        },
        "shapeOptions": {
         "clickable": true,
         "color": "black",
         "fill": true,
         "fillColor": "black",
         "fillOpacity": 0.1,
         "opacity": 0.5,
         "stroke": true,
         "weight": 4
        }
       },
       "polyline": {}
      }
     },
     "3386ea3aaa0b46abac218b70aa924b77": {
      "model_module": "@jupyter-widgets/controls",
      "model_module_version": "2.0.0",
      "model_name": "DropdownModel",
      "state": {
       "_options_labels": [
        "Horn",
        "ZevenbergenThorne"
       ],
       "index": 0,
       "layout": "IPY_MODEL_a7970f169b734751a7b52f16aeb58526",
       "style": "IPY_MODEL_5e845955746e4a43bd64fd1e47fe1217",
       "tooltip": "The literature suggests Zevenbergen & Thorne to be more suited to smooth landscapes, whereas Horn’s formula to perform better on rougher terrain."
      }
     },
     "3523ab63006d464387de43395c2c0bfd": {
      "model_module": "@jupyter-widgets/controls",
      "model_module_version": "2.0.0",
      "model_name": "SelectMultipleModel",
      "state": {
       "_options_labels": [
        "[1]: unclassified (5548321 points)"
       ],
       "index": [
        0
       ],
       "layout": "IPY_MODEL_a63f37cb45a84ad986b7305b79e4783b",
       "rows": 5,
       "style": "IPY_MODEL_046f1c5327f343f8bd8a158343fc365d"
      }
     },
     "374fb9bbef924397bbed1a2fad1a1ce4": {
      "model_module": "@jupyter-widgets/controls",
      "model_module_version": "2.0.0",
      "model_name": "VBoxModel",
      "state": {
       "children": [
        "IPY_MODEL_75b53714145843ac885a4366c065b2c6"
       ],
       "layout": "IPY_MODEL_d9d2bf8c44774687b03a056a9973b9ae"
      }
     },
     "39839352fd5c475ca0232a87bf8b3ad1": {
      "model_module": "@jupyter-widgets/base",
      "model_module_version": "2.0.0",
      "model_name": "LayoutModel",
      "state": {}
     },
     "39d75e13bbbd48269120c43582f26d5a": {
      "model_module": "@jupyter-widgets/controls",
      "model_module_version": "2.0.0",
      "model_name": "DropdownModel",
      "state": {
       "_options_labels": [
        "Horn",
        "ZevenbergenThorne"
       ],
       "index": 0,
       "layout": "IPY_MODEL_f0236db42dc24a9996d36f00a8389d2d",
       "style": "IPY_MODEL_cbf92eb39c5c47f1ad615d65ab6bbefe",
       "tooltip": "The literature suggests Zevenbergen & Thorne to be more suited to smooth landscapes, whereas Horn’s formula to perform better on rougher terrain."
      }
     },
     "3b51e847a1b8480996c4cc8f93b4c08c": {
      "model_module": "@jupyter-widgets/base",
      "model_module_version": "2.0.0",
      "model_name": "LayoutModel",
      "state": {
       "width": "100%"
      }
     },
     "3ba13d590ccc44e8926ac6fe873f8763": {
      "model_module": "@jupyter-widgets/base",
      "model_module_version": "2.0.0",
      "model_name": "LayoutModel",
      "state": {
       "width": "100%"
      }
     },
     "3c56d11307b6476798043fd31c628aa2": {
      "model_module": "@jupyter-widgets/controls",
      "model_module_version": "2.0.0",
      "model_name": "FloatSliderModel",
      "state": {
       "behavior": "drag-tap",
       "layout": "IPY_MODEL_3b51e847a1b8480996c4cc8f93b4c08c",
       "max": 1,
       "step": 0.1,
       "style": "IPY_MODEL_7c122ee3b03a40c29ae8a3a23959e697",
       "tooltip": "Blending factor",
       "value": 0.5
      }
     },
     "3c62edab052b4a9a991068f199d8e556": {
      "model_module": "@jupyter-widgets/controls",
      "model_module_version": "2.0.0",
      "model_name": "LabelStyleModel",
      "state": {
       "description_width": "",
       "font_family": null,
       "font_size": null,
       "font_style": null,
       "font_variant": null,
       "font_weight": null,
       "text_color": null,
       "text_decoration": null
      }
     },
     "3def1b7516af4edf8ef033fe9e715696": {
      "model_module": "@jupyter-widgets/controls",
      "model_module_version": "2.0.0",
      "model_name": "DescriptionStyleModel",
      "state": {
       "description_width": ""
      }
     },
     "3f53e4b08e464748b0291bf2244b740c": {
      "model_module": "@jupyter-widgets/base",
      "model_module_version": "2.0.0",
      "model_name": "LayoutModel",
      "state": {
       "width": "100%"
      }
     },
     "3fb752cc344a46398f5f30cba084c26e": {
      "model_module": "@jupyter-widgets/controls",
      "model_module_version": "2.0.0",
      "model_name": "IntSliderModel",
      "state": {
       "behavior": "drag-tap",
       "description": "Zoom level:",
       "layout": "IPY_MODEL_62b4b025904c488883fec2f17ff75f79",
       "max": 20,
       "style": "IPY_MODEL_f6a534aeab0e4d80b89c076faa5271fc",
       "value": 16
      }
     },
     "40d33ab5856445edbe806e7f680cafa6": {
      "model_module": "@jupyter-widgets/controls",
      "model_module_version": "2.0.0",
      "model_name": "VBoxModel",
      "state": {
       "children": [
        "IPY_MODEL_00d76da9e98b48399f8ab5e5bdcfd016",
        "IPY_MODEL_66ec6b614a174a23ab7d3b5b37a683db"
       ],
       "layout": "IPY_MODEL_566aae3b49c2432ca603b77c47ca4ed7"
      }
     },
     "44b9385de10a439f9d4409b05a857dd2": {
      "model_module": "@jupyter-widgets/controls",
      "model_module_version": "2.0.0",
      "model_name": "VBoxModel",
      "state": {
       "children": [
        "IPY_MODEL_6fd8a8cb085140739ae0ad3d359f0072",
        "IPY_MODEL_0e079e4d91e048ac964057d1164269df"
       ],
       "layout": "IPY_MODEL_25c955a5144d448f9ae8c12fb192a139"
      }
     },
     "4918437493e146269fb5e4f50d01b5c8": {
      "model_module": "@jupyter-widgets/base",
      "model_module_version": "2.0.0",
      "model_name": "LayoutModel",
      "state": {
       "width": "100%"
      }
     },
     "4ae9b658904a46e79bf8e7d8fb700efa": {
      "model_module": "@jupyter-widgets/base",
      "model_module_version": "2.0.0",
      "model_name": "LayoutModel",
      "state": {
       "grid_area": "main",
       "width": "auto"
      }
     },
     "4c3bd4ae320d4dd7b279d746ca7f541f": {
      "model_module": "@jupyter-widgets/controls",
      "model_module_version": "2.0.0",
      "model_name": "TextModel",
      "state": {
       "layout": "IPY_MODEL_d663f13190464f489b96bcce24b5ca88",
       "style": "IPY_MODEL_eceb74159e0142f0b43e3ed5e428a00b",
       "tooltip": "visualization_type"
      }
     },
     "4e386351516447ceab6671cb93269a8d": {
      "model_module": "@jupyter-widgets/base",
      "model_module_version": "2.0.0",
      "model_name": "LayoutModel",
      "state": {}
     },
     "507458613fd54d2593b334e33e648d2f": {
      "model_module": "@jupyter-widgets/controls",
      "model_module_version": "2.0.0",
      "model_name": "SliderStyleModel",
      "state": {
       "description_width": ""
      }
     },
     "566aae3b49c2432ca603b77c47ca4ed7": {
      "model_module": "@jupyter-widgets/base",
      "model_module_version": "2.0.0",
      "model_name": "LayoutModel",
      "state": {
       "width": "100%"
      }
     },
     "5a36b455ed954225bd7ba23a1aca5451": {
      "model_module": "@jupyter-widgets/controls",
      "model_module_version": "2.0.0",
      "model_name": "VBoxModel",
      "state": {
       "children": [
        "IPY_MODEL_86b2cc08eb474008ab51b015def9e460",
        "IPY_MODEL_030f52aa0a2541068ed8ebc894bc95c7"
       ],
       "layout": "IPY_MODEL_860dcb5569bb46f193122178bb05fbe8"
      }
     },
     "5a3fbc9da67c4a8c9de961dd3e6ae045": {
      "model_module": "@jupyter-widgets/controls",
      "model_module_version": "2.0.0",
      "model_name": "DescriptionStyleModel",
      "state": {
       "description_width": ""
      }
     },
     "5aa0cc96306246829774fe6e2d60e3ad": {
      "model_module": "@jupyter-widgets/base",
      "model_module_version": "2.0.0",
      "model_name": "LayoutModel",
      "state": {}
     },
     "5b67db10a1d741bdbcde44ddf124a5db": {
      "model_module": "jupyter-leaflet",
      "model_module_version": "^0.20",
      "model_name": "LeafletMapModel",
      "state": {
       "_model_module_version": "^0.20",
       "_view_module_version": "^0.20",
       "bottom": 5835613,
       "center": [
        47.95100362370305,
        16.602573394775394
       ],
       "controls": [
        "IPY_MODEL_1312a89af0bf4b2a885d8b38557d2172",
        "IPY_MODEL_eed8f8691fad442f95ca95cfcb0d37c8",
        "IPY_MODEL_2f7ec50fd5464173b80cc0fb9a3c3d30",
        "IPY_MODEL_f5dddf32fee54f6eb24f3598f4533361",
        "IPY_MODEL_e04f6bffd04149c49ee3ba68d46d3f17"
       ],
       "default_style": "IPY_MODEL_cc903a7cae904f179f7757d3fd9872ac",
       "dragging_style": "IPY_MODEL_cb9db6d0c0a145bb8dc4deea6d69c89f",
       "east": 16.61162853240967,
       "fullscreen": false,
       "interpolation": "bilinear",
       "layers": [
        "IPY_MODEL_6fef160df1bb4467b720e88a4cbae86a",
        "IPY_MODEL_03442abb21f14e079b4869b204eec485",
        "IPY_MODEL_c57a77eb6ade4eab88ac9cc91cb793a5"
       ],
       "layout": "IPY_MODEL_7e2953ad87aa426a9402e77a4636a063",
       "left": 9161922,
       "max_zoom": 20,
       "modisdate": "2025-07-25",
       "north": 47.95387786701504,
       "options": [
        "bounce_at_zoom_limits",
        "box_zoom",
        "center",
        "close_popup_on_click",
        "double_click_zoom",
        "dragging",
        "fullscreen",
        "inertia",
        "inertia_deceleration",
        "inertia_max_speed",
        "interpolation",
        "keyboard",
        "keyboard_pan_offset",
        "keyboard_zoom_offset",
        "max_zoom",
        "min_zoom",
        "prefer_canvas",
        "scroll_wheel_zoom",
        "tap",
        "tap_tolerance",
        "touch_zoom",
        "world_copy_jump",
        "zoom",
        "zoom_animation_threshold",
        "zoom_delta",
        "zoom_snap"
       ],
       "prefer_canvas": false,
       "right": 9162766,
       "south": 47.94812922052203,
       "style": "IPY_MODEL_cc903a7cae904f179f7757d3fd9872ac",
       "top": 5835213,
       "west": 16.593518257141117,
       "window_url": "http://localhost:8888/lab/workspaces/auto-a/tree/docs/Suggested%20Workflow%20StA.ipynb",
       "zoom": 16
      }
     },
     "5b82f0d0c335473d801e47994a1475ca": {
      "model_module": "@jupyter-widgets/controls",
      "model_module_version": "2.0.0",
      "model_name": "GridBoxModel",
      "state": {
       "children": [
        "IPY_MODEL_8a11a1a35da34e6bb486bb1575ee7c27",
        "IPY_MODEL_5b67db10a1d741bdbcde44ddf124a5db"
       ],
       "layout": "IPY_MODEL_f15846dd98d44837b9e139e1accd18d5"
      }
     },
     "5dc2de623ce04802947b88301fa4d818": {
      "model_module": "@jupyter-widgets/controls",
      "model_module_version": "2.0.0",
      "model_name": "VBoxModel",
      "state": {
       "children": [
        "IPY_MODEL_87a306b6992a454f8f36b19ac38a9a8e",
        "IPY_MODEL_3386ea3aaa0b46abac218b70aa924b77"
       ],
       "layout": "IPY_MODEL_f5859ab106a14006b7f42d1adf50f006"
      }
     },
     "5e845955746e4a43bd64fd1e47fe1217": {
      "model_module": "@jupyter-widgets/controls",
      "model_module_version": "2.0.0",
      "model_name": "DescriptionStyleModel",
      "state": {
       "description_width": ""
      }
     },
     "5ebbd6de0abb44e6897c580064b58397": {
      "model_module": "@jupyter-widgets/base",
      "model_module_version": "2.0.0",
      "model_name": "LayoutModel",
      "state": {
       "width": "100%"
      }
     },
     "5f4aba456d974ab5b1aedc1e353de0dd": {
      "model_module": "@jupyter-widgets/controls",
      "model_module_version": "2.0.0",
      "model_name": "LabelStyleModel",
      "state": {
       "description_width": "",
       "font_family": null,
       "font_size": null,
       "font_style": null,
       "font_variant": null,
       "font_weight": null,
       "text_color": null,
       "text_decoration": null
      }
     },
     "608219d693074b7bafad892b52adeb3a": {
      "model_module": "@jupyter-widgets/base",
      "model_module_version": "2.0.0",
      "model_name": "LayoutModel",
      "state": {}
     },
     "627ba29bcf0445c982cbd360dd30e85b": {
      "model_module": "@jupyter-widgets/controls",
      "model_module_version": "2.0.0",
      "model_name": "FloatTextModel",
      "state": {
       "layout": "IPY_MODEL_df177e849cb34bb586637118578224c9",
       "step": null,
       "style": "IPY_MODEL_3def1b7516af4edf8ef033fe9e715696",
       "tooltip": "Vertical exaggeration used to pre-multiply the elevations",
       "value": 1
      }
     },
     "62b4b025904c488883fec2f17ff75f79": {
      "model_module": "@jupyter-widgets/base",
      "model_module_version": "2.0.0",
      "model_name": "LayoutModel",
      "state": {}
     },
     "65494a9cc3754eab8e18cb9ad6837290": {
      "model_module": "@jupyter-widgets/base",
      "model_module_version": "2.0.0",
      "model_name": "LayoutModel",
      "state": {}
     },
     "66ec6b614a174a23ab7d3b5b37a683db": {
      "model_module": "@jupyter-widgets/controls",
      "model_module_version": "2.0.0",
      "model_name": "FloatSliderModel",
      "state": {
       "behavior": "drag-tap",
       "layout": "IPY_MODEL_890f8a02912640cfa3716d917008c649",
       "max": 90,
       "step": 0.1,
       "style": "IPY_MODEL_b3d11ee22d71488e95c75ee66cc50cd8",
       "tooltip": "Altitude of the light, in degrees. 90 if the light comes from above the DEM, 0 if it is raking light.",
       "value": 30
      }
     },
     "6780f93dd8f14e979e41fc873d46e2cc": {
      "model_module": "@jupyter-widgets/base",
      "model_module_version": "2.0.0",
      "model_name": "LayoutModel",
      "state": {}
     },
     "6b41dbee32de45018db9bfb29b780324": {
      "model_module": "@jupyter-widgets/controls",
      "model_module_version": "2.0.0",
      "model_name": "LabelModel",
      "state": {
       "layout": "IPY_MODEL_a2deea9f8fd04eff9f2e07598a52c45b",
       "style": "IPY_MODEL_28f6698b33d247ec9eb2f63277bf708d",
       "value": "Add Geotiff layer to the map:"
      }
     },
     "6b97c2e290f44e958984f0e977a9021f": {
      "model_module": "@jupyter-widgets/controls",
      "model_module_version": "2.0.0",
      "model_name": "VBoxModel",
      "state": {
       "children": [
        "IPY_MODEL_7f4ca512205c4cb6af8ac7740bc39211",
        "IPY_MODEL_c747922f81634791a35bb6eb748ee253"
       ],
       "layout": "IPY_MODEL_d3f7199b2cfe4a07a591d7aae4912767"
      }
     },
     "6be25fcb652e4a978f930605ad304e97": {
      "model_module": "@jupyter-widgets/base",
      "model_module_version": "2.0.0",
      "model_name": "LayoutModel",
      "state": {
       "width": "100%"
      }
     },
     "6f986e21e3194a739c621ecc913ad5b0": {
      "model_module": "@jupyter-widgets/base",
      "model_module_version": "2.0.0",
      "model_name": "LayoutModel",
      "state": {}
     },
     "6fd8a8cb085140739ae0ad3d359f0072": {
      "model_module": "@jupyter-widgets/controls",
      "model_module_version": "2.0.0",
      "model_name": "LabelModel",
      "state": {
       "layout": "IPY_MODEL_c7ceb168327344c1bb808878f873fd8e",
       "style": "IPY_MODEL_d2ceeacab29f429eb5a0607fb5490410",
       "value": "Azimuth angle (0 to 360 degrees)"
      }
     },
     "6fef160df1bb4467b720e88a4cbae86a": {
      "model_module": "jupyter-leaflet",
      "model_module_version": "^0.20",
      "model_name": "LeafletTileLayerModel",
      "state": {
       "_model_module_version": "^0.20",
       "_view_module_version": "^0.20",
       "attribution": "Tiles &copy; Esri &mdash; Source: Esri, i-cubed, USDA, USGS, AEX, GeoEye, Getmapping, Aerogrid, IGN, IGP, UPR-EGP, and the GIS User Community",
       "base": true,
       "min_zoom": 1,
       "name": "Esri.WorldImagery",
       "options": [
        "attribution",
        "bounds",
        "detect_retina",
        "max_native_zoom",
        "max_zoom",
        "min_native_zoom",
        "min_zoom",
        "no_wrap",
        "pm_ignore",
        "tile_size",
        "tms",
        "zoom_offset"
       ],
       "snap_ignore": true,
       "url": "https://server.arcgisonline.com/ArcGIS/rest/services/World_Imagery/MapServer/tile/{z}/{y}/{x}"
      }
     },
     "705642669f4a43b8a60a3ccb27e04c9c": {
      "model_module": "@jupyter-widgets/controls",
      "model_module_version": "2.0.0",
      "model_name": "SliderStyleModel",
      "state": {
       "description_width": ""
      }
     },
     "72467e0b38f8404e88a48dc7f14d58fd": {
      "model_module": "@jupyter-widgets/controls",
      "model_module_version": "2.0.0",
      "model_name": "BoxModel",
      "state": {
       "children": [
        "IPY_MODEL_3523ab63006d464387de43395c2c0bfd"
       ],
       "layout": "IPY_MODEL_7e2953ad87aa426a9402e77a4636a063"
      }
     },
     "73711539d56e4b948566f07318f8a498": {
      "model_module": "@jupyter-widgets/controls",
      "model_module_version": "2.0.0",
      "model_name": "LabelStyleModel",
      "state": {
       "description_width": "",
       "font_family": null,
       "font_size": null,
       "font_style": null,
       "font_variant": null,
       "font_weight": null,
       "text_color": null,
       "text_decoration": null
      }
     },
     "75322220b93649908bcad079ea0209d8": {
      "model_module": "@jupyter-widgets/base",
      "model_module_version": "2.0.0",
      "model_name": "LayoutModel",
      "state": {}
     },
     "75b53714145843ac885a4366c065b2c6": {
      "model_module": "@jupyter-widgets/controls",
      "model_module_version": "2.0.0",
      "model_name": "VBoxModel",
      "state": {
       "children": [
        "IPY_MODEL_fce4ab7f17e84931844cacd2e623eba3",
        "IPY_MODEL_fba21ab654004bfaa950302d1ee45e41"
       ],
       "layout": "IPY_MODEL_ad1bfb583ae74871b11c6917b47c3dc4"
      }
     },
     "75ee62001a574d1cb41deaa6407126da": {
      "model_module": "@jupyter-widgets/controls",
      "model_module_version": "2.0.0",
      "model_name": "LabelModel",
      "state": {
       "layout": "IPY_MODEL_83c969b2a99747c4b3d1a3200a43b041",
       "style": "IPY_MODEL_73711539d56e4b948566f07318f8a498",
       "value": "Vertical exaggeration:"
      }
     },
     "7780a1f719c14cdaa3d7b38097dde327": {
      "model_module": "@jupyter-widgets/controls",
      "model_module_version": "2.0.0",
      "model_name": "LabelStyleModel",
      "state": {
       "description_width": "",
       "font_family": null,
       "font_size": null,
       "font_style": null,
       "font_variant": null,
       "font_weight": null,
       "text_color": null,
       "text_decoration": null
      }
     },
     "7a246e7c44d44006b5bb12bd4ccde633": {
      "model_module": "@jupyter-widgets/controls",
      "model_module_version": "2.0.0",
      "model_name": "LabelModel",
      "state": {
       "layout": "IPY_MODEL_996fe4247d754964bbb57dbeef02db53",
       "style": "IPY_MODEL_0e9d626f490948d391ddc7d7844f6839",
       "value": "visualization_type"
      }
     },
     "7a4d9c174f5440d69b09884a94c4144f": {
      "model_module": "@jupyter-widgets/base",
      "model_module_version": "2.0.0",
      "model_name": "LayoutModel",
      "state": {
       "width": "100%"
      }
     },
     "7c122ee3b03a40c29ae8a3a23959e697": {
      "model_module": "@jupyter-widgets/controls",
      "model_module_version": "2.0.0",
      "model_name": "SliderStyleModel",
      "state": {
       "description_width": ""
      }
     },
     "7e2953ad87aa426a9402e77a4636a063": {
      "model_module": "@jupyter-widgets/base",
      "model_module_version": "2.0.0",
      "model_name": "LayoutModel",
      "state": {
       "grid_area": "center",
       "width": "100%"
      }
     },
     "7f4ca512205c4cb6af8ac7740bc39211": {
      "model_module": "@jupyter-widgets/controls",
      "model_module_version": "2.0.0",
      "model_name": "LabelModel",
      "state": {
       "layout": "IPY_MODEL_0904eaebf05a49618b33a195559ea71b",
       "style": "IPY_MODEL_7f95e4e9af3544bcae79724c44665230",
       "value": "Azimuth angle (0 to 360 degrees)"
      }
     },
     "7f95e4e9af3544bcae79724c44665230": {
      "model_module": "@jupyter-widgets/controls",
      "model_module_version": "2.0.0",
      "model_name": "LabelStyleModel",
      "state": {
       "description_width": "",
       "font_family": null,
       "font_size": null,
       "font_style": null,
       "font_variant": null,
       "font_weight": null,
       "text_color": null,
       "text_decoration": null
      }
     },
     "81f2683bddad47fc8026b13a3dc07d39": {
      "model_module": "@jupyter-widgets/base",
      "model_module_version": "2.0.0",
      "model_name": "LayoutModel",
      "state": {}
     },
     "83836adca06349ca897598f27e4c1319": {
      "model_module": "@jupyter-widgets/controls",
      "model_module_version": "2.0.0",
      "model_name": "LabelModel",
      "state": {
       "layout": "IPY_MODEL_3ba13d590ccc44e8926ac6fe873f8763",
       "style": "IPY_MODEL_7780a1f719c14cdaa3d7b38097dde327",
       "value": "Algorithm"
      }
     },
     "83c969b2a99747c4b3d1a3200a43b041": {
      "model_module": "@jupyter-widgets/base",
      "model_module_version": "2.0.0",
      "model_name": "LayoutModel",
      "state": {
       "width": "100%"
      }
     },
     "860dcb5569bb46f193122178bb05fbe8": {
      "model_module": "@jupyter-widgets/base",
      "model_module_version": "2.0.0",
      "model_name": "LayoutModel",
      "state": {
       "width": "100%"
      }
     },
     "86b2cc08eb474008ab51b015def9e460": {
      "model_module": "@jupyter-widgets/controls",
      "model_module_version": "2.0.0",
      "model_name": "LabelModel",
      "state": {
       "layout": "IPY_MODEL_1ef5e2997fb24a7e9f76913f24247921",
       "style": "IPY_MODEL_1a285c8f75ab41d194d6081bc89d2ec8",
       "value": "Raster resolution"
      }
     },
     "87a306b6992a454f8f36b19ac38a9a8e": {
      "model_module": "@jupyter-widgets/controls",
      "model_module_version": "2.0.0",
      "model_name": "LabelModel",
      "state": {
       "layout": "IPY_MODEL_2420f285df1d416284e1abaae160f374",
       "style": "IPY_MODEL_ee655543c3c94df0aeecedb37f3f4081",
       "value": "Algorithm"
      }
     },
     "87fa135dccef4a36b77d36d99fc1c0f7": {
      "model_module": "@jupyter-widgets/base",
      "model_module_version": "2.0.0",
      "model_name": "LayoutModel",
      "state": {}
     },
     "890f8a02912640cfa3716d917008c649": {
      "model_module": "@jupyter-widgets/base",
      "model_module_version": "2.0.0",
      "model_name": "LayoutModel",
      "state": {
       "width": "100%"
      }
     },
     "8a11a1a35da34e6bb486bb1575ee7c27": {
      "model_module": "@jupyter-widgets/controls",
      "model_module_version": "2.0.0",
      "model_name": "VBoxModel",
      "state": {
       "children": [
        "IPY_MODEL_a1ae097452a241079408ded046e5905c",
        "IPY_MODEL_b19a5d226ebc4e50aa7f081123bfd6de",
        "IPY_MODEL_9f588197ca9e4609a4521455f8f2f425",
        "IPY_MODEL_f1bd9271109140eaa0f7893dfef35734",
        "IPY_MODEL_d6444741c39a4db6b9d6eb09a30600b2",
        "IPY_MODEL_72467e0b38f8404e88a48dc7f14d58fd"
       ],
       "layout": "IPY_MODEL_cb7e677b5db04153bb1d9ecc35fe55be"
      }
     },
     "8cd773fa4a98406aa7bc017f6dae6d81": {
      "model_module": "@jupyter-widgets/controls",
      "model_module_version": "2.0.0",
      "model_name": "AccordionModel",
      "state": {
       "children": [
        "IPY_MODEL_965d12f96611474982da853eb9fb5cb7"
       ],
       "layout": "IPY_MODEL_6f986e21e3194a739c621ecc913ad5b0",
       "titles": [
        "Hillshade Model + Slope Map"
       ]
      }
     },
     "8d621b3cd0b74b3199f33bee3aee61f6": {
      "model_module": "@jupyter-widgets/base",
      "model_module_version": "2.0.0",
      "model_name": "LayoutModel",
      "state": {}
     },
     "8e4aa7f662154060868526d829983859": {
      "model_module": "@jupyter-widgets/base",
      "model_module_version": "2.0.0",
      "model_name": "LayoutModel",
      "state": {
       "width": "100%"
      }
     },
     "91c56cfeb0624f4795d103d3f2bbefe5": {
      "model_module": "@jupyter-widgets/controls",
      "model_module_version": "2.0.0",
      "model_name": "LabelModel",
      "state": {
       "layout": "IPY_MODEL_3f53e4b08e464748b0291bf2244b740c",
       "style": "IPY_MODEL_a54ce8450292453ea6287ddcac4bec84",
       "value": "Angle Altitude (0 to 90 degrees)"
      }
     },
     "9316e36a69d9427c82e3352a99793a47": {
      "model_module": "@jupyter-widgets/controls",
      "model_module_version": "2.0.0",
      "model_name": "TextModel",
      "state": {
       "layout": "IPY_MODEL_a6d3b9e59cbb45ec83e03edc22175c04",
       "style": "IPY_MODEL_02756ffc2e2b4b09b9d2baaf583fa982",
       "tooltip": "visualization_type"
      }
     },
     "935fe24afb624ce9a13514161ff6f7b2": {
      "model_module": "@jupyter-widgets/controls",
      "model_module_version": "2.0.0",
      "model_name": "FloatTextModel",
      "state": {
       "layout": "IPY_MODEL_5ebbd6de0abb44e6897c580064b58397",
       "step": null,
       "style": "IPY_MODEL_e3a3764429754b5ebc819b92faa8dd69",
       "tooltip": "Vertical exaggeration used to pre-multiply the elevations",
       "value": 1
      }
     },
     "9416b4714b4e4a838ab8ab4d730d22c0": {
      "model_module": "@jupyter-widgets/controls",
      "model_module_version": "2.0.0",
      "model_name": "LabelModel",
      "state": {
       "layout": "IPY_MODEL_f049d2d3504e4114b497255461740696",
       "style": "IPY_MODEL_5f4aba456d974ab5b1aedc1e353de0dd",
       "value": "Blending factor"
      }
     },
     "957f67615e644f8a81cc6ed513726968": {
      "model_module": "@jupyter-widgets/base",
      "model_module_version": "2.0.0",
      "model_name": "LayoutModel",
      "state": {}
     },
     "965d12f96611474982da853eb9fb5cb7": {
      "model_module": "@jupyter-widgets/controls",
      "model_module_version": "2.0.0",
      "model_name": "VBoxModel",
      "state": {
       "children": [
        "IPY_MODEL_5dc2de623ce04802947b88301fa4d818",
        "IPY_MODEL_40d33ab5856445edbe806e7f680cafa6",
        "IPY_MODEL_6b97c2e290f44e958984f0e977a9021f",
        "IPY_MODEL_2965ba7f03d84b37ba103629df60fc11",
        "IPY_MODEL_26ad1c6c8270497799a41c2746994545"
       ],
       "layout": "IPY_MODEL_39839352fd5c475ca0232a87bf8b3ad1"
      }
     },
     "996fe4247d754964bbb57dbeef02db53": {
      "model_module": "@jupyter-widgets/base",
      "model_module_version": "2.0.0",
      "model_name": "LayoutModel",
      "state": {
       "width": "100%"
      }
     },
     "99b2889a455345db86bc5b4641ee559d": {
      "model_module": "@jupyter-widgets/controls",
      "model_module_version": "2.0.0",
      "model_name": "LabelModel",
      "state": {
       "layout": "IPY_MODEL_6be25fcb652e4a978f930605ad304e97",
       "style": "IPY_MODEL_3c62edab052b4a9a991068f199d8e556",
       "value": "visualization_type"
      }
     },
     "9ce0aca8058e42fb88cc574ad3933ae4": {
      "model_module": "@jupyter-widgets/base",
      "model_module_version": "2.0.0",
      "model_name": "LayoutModel",
      "state": {}
     },
     "9f588197ca9e4609a4521455f8f2f425": {
      "model_module": "@jupyter-widgets/controls",
      "model_module_version": "2.0.0",
      "model_name": "ButtonModel",
      "state": {
       "description": "Visualize",
       "layout": "IPY_MODEL_7e2953ad87aa426a9402e77a4636a063",
       "style": "IPY_MODEL_dc3f752135814403910ec433d7758207",
       "tooltip": null
      }
     },
     "9ffc3642ef31488896509954cd299644": {
      "model_module": "@jupyter-widgets/controls",
      "model_module_version": "2.0.0",
      "model_name": "FloatSliderModel",
      "state": {
       "behavior": "drag-tap",
       "layout": "IPY_MODEL_8e4aa7f662154060868526d829983859",
       "max": 90,
       "step": 0.1,
       "style": "IPY_MODEL_507458613fd54d2593b334e33e648d2f",
       "tooltip": "Altitude of the light, in degrees. 90 if the light comes from above the DEM, 0 if it is raking light.",
       "value": 29.999999999999996
      }
     },
     "a179f9688dc34d468fbe090f738c4046": {
      "model_module": "@jupyter-widgets/base",
      "model_module_version": "2.0.0",
      "model_name": "LayoutModel",
      "state": {}
     },
     "a1ae097452a241079408ded046e5905c": {
      "model_module": "@jupyter-widgets/controls",
      "model_module_version": "2.0.0",
      "model_name": "ButtonModel",
      "state": {
       "description": "Finalize",
       "layout": "IPY_MODEL_7e2953ad87aa426a9402e77a4636a063",
       "style": "IPY_MODEL_01bf15445a8840f5b6ccc8c46d0ff31d",
       "tooltip": null
      }
     },
     "a2deea9f8fd04eff9f2e07598a52c45b": {
      "model_module": "@jupyter-widgets/base",
      "model_module_version": "2.0.0",
      "model_name": "LayoutModel",
      "state": {}
     },
     "a3144f1787eb4cee9050de3608bbf230": {
      "model_module": "@jupyter-widgets/base",
      "model_module_version": "2.0.0",
      "model_name": "LayoutModel",
      "state": {}
     },
     "a54ce8450292453ea6287ddcac4bec84": {
      "model_module": "@jupyter-widgets/controls",
      "model_module_version": "2.0.0",
      "model_name": "LabelStyleModel",
      "state": {
       "description_width": "",
       "font_family": null,
       "font_size": null,
       "font_style": null,
       "font_variant": null,
       "font_weight": null,
       "text_color": null,
       "text_decoration": null
      }
     },
     "a63f37cb45a84ad986b7305b79e4783b": {
      "model_module": "@jupyter-widgets/base",
      "model_module_version": "2.0.0",
      "model_name": "LayoutModel",
      "state": {}
     },
     "a6d3b9e59cbb45ec83e03edc22175c04": {
      "model_module": "@jupyter-widgets/base",
      "model_module_version": "2.0.0",
      "model_name": "LayoutModel",
      "state": {}
     },
     "a7970f169b734751a7b52f16aeb58526": {
      "model_module": "@jupyter-widgets/base",
      "model_module_version": "2.0.0",
      "model_name": "LayoutModel",
      "state": {
       "width": "100%"
      }
     },
     "a83ea02784ad471b81c16b9c43b0e39c": {
      "model_module": "@jupyter-widgets/base",
      "model_module_version": "2.0.0",
      "model_name": "LayoutModel",
      "state": {}
     },
     "ab7f8bfbc1164ccf85d99d31e58aff41": {
      "model_module": "@jupyter-widgets/base",
      "model_module_version": "2.0.0",
      "model_name": "LayoutModel",
      "state": {
       "width": "100%"
      }
     },
     "ad1bfb583ae74871b11c6917b47c3dc4": {
      "model_module": "@jupyter-widgets/base",
      "model_module_version": "2.0.0",
      "model_name": "LayoutModel",
      "state": {}
     },
     "b0668bb96cb744eca947ce83b88e7736": {
      "model_module": "@jupyter-widgets/controls",
      "model_module_version": "2.0.0",
      "model_name": "VBoxModel",
      "state": {
       "children": [
        "IPY_MODEL_de80122f3ae84995a0718076e282c17e",
        "IPY_MODEL_05800576596947dcb5197d5b65f1c865",
        "IPY_MODEL_44b9385de10a439f9d4409b05a857dd2",
        "IPY_MODEL_02115963ce024822ba1957cfbc90c022"
       ],
       "layout": "IPY_MODEL_a3144f1787eb4cee9050de3608bbf230"
      }
     },
     "b19a5d226ebc4e50aa7f081123bfd6de": {
      "model_module": "@jupyter-widgets/controls",
      "model_module_version": "2.0.0",
      "model_name": "BoxModel",
      "state": {
       "children": [
        "IPY_MODEL_6b41dbee32de45018db9bfb29b780324"
       ],
       "layout": "IPY_MODEL_177ee7651fc14ecc9bac64041aae4bbb"
      }
     },
     "b342bb7b2d2f4d54a831cf4e821b9601": {
      "model_module": "@jupyter-widgets/base",
      "model_module_version": "2.0.0",
      "model_name": "LayoutModel",
      "state": {
       "width": "100%"
      }
     },
     "b3d11ee22d71488e95c75ee66cc50cd8": {
      "model_module": "@jupyter-widgets/controls",
      "model_module_version": "2.0.0",
      "model_name": "SliderStyleModel",
      "state": {
       "description_width": ""
      }
     },
     "baf9a1c94c8b4db0bb4e19c1269b387d": {
      "model_module": "@jupyter-widgets/controls",
      "model_module_version": "2.0.0",
      "model_name": "SliderStyleModel",
      "state": {
       "description_width": ""
      }
     },
     "be7b70c189514dcbaa140fbf5265aed5": {
      "model_module": "@jupyter-widgets/base",
      "model_module_version": "2.0.0",
      "model_name": "LayoutModel",
      "state": {}
     },
     "c040ed72321240d087ae7b7daad2c3bc": {
      "model_module": "@jupyter-widgets/controls",
      "model_module_version": "2.0.0",
      "model_name": "LabelModel",
      "state": {
       "layout": "IPY_MODEL_ff7388f3d2ac4ea696659b45964f0174",
       "style": "IPY_MODEL_d8c6f8cae89c419984fa0158092d3d84",
       "value": "visualization_type"
      }
     },
     "c27f52cc9866464ca02c324d1f90be4b": {
      "model_module": "jupyter-leaflet",
      "model_module_version": "^0.20",
      "model_name": "LeafletMapStyleModel",
      "state": {
       "_model_module_version": "^0.20"
      }
     },
     "c57a77eb6ade4eab88ac9cc91cb793a5": {
      "model_module": "jupyter-leaflet",
      "model_module_version": "^0.20",
      "model_name": "LeafletGeoJSONModel",
      "state": {
       "_model_module_version": "^0.20",
       "_view_module_version": "^0.20",
       "data": {
        "features": [
         {
          "geometry": {
           "coordinates": [
            [
             [
              [
               16.597288025958886,
               47.95435811841706
              ],
              [
               16.607902253233636,
               47.954333494452186
              ],
              [
               16.60786723097293,
               47.947653127822
              ],
              [
               16.597254481146884,
               47.94769950620545
              ],
              [
               16.597288025958886,
               47.95435811841706
              ]
             ]
            ]
           ],
           "type": "MultiPolygon"
          },
          "properties": {
           "id": null,
           "style": {
            "attribution": "null",
            "bubblingMouseEvents": "true",
            "clickable": "true",
            "color": "black",
            "dashArray": "null",
            "dashOffset": "null",
            "fill": "true",
            "fillColor": "black",
            "fillOpacity": 0.1,
            "fillRule": "evenodd",
            "interactive": "true",
            "lineCap": "round",
            "lineJoin": "round",
            "noClip": "false",
            "opacity": 0.5,
            "pane": "overlayPane",
            "smoothFactor": 1,
            "stroke": "true",
            "weight": 4
           }
          },
          "type": "Feature"
         }
        ],
        "spatial_reference": "EPSG:4326",
        "type": "Segmentation"
       },
       "name": "Segmentation",
       "options": [
        "pm_ignore"
       ],
       "snap_ignore": true
      }
     },
     "c747922f81634791a35bb6eb748ee253": {
      "model_module": "@jupyter-widgets/controls",
      "model_module_version": "2.0.0",
      "model_name": "FloatSliderModel",
      "state": {
       "behavior": "drag-tap",
       "layout": "IPY_MODEL_f3eb8cbabc53440daeab47bf5c7aed49",
       "max": 360,
       "step": 0.1,
       "style": "IPY_MODEL_baf9a1c94c8b4db0bb4e19c1269b387d",
       "tooltip": "Azimuth of the light, in degrees. 0 if it comes from the top of the raster, 90 from the east, … The default value, 315, should rarely be changed as it is the value generally used to generate shaded maps.",
       "value": 315
      }
     },
     "c7505099e53146f4a7c7d382c604e35c": {
      "model_module": "@jupyter-widgets/controls",
      "model_module_version": "2.0.0",
      "model_name": "TextModel",
      "state": {
       "layout": "IPY_MODEL_a179f9688dc34d468fbe090f738c4046",
       "style": "IPY_MODEL_f92d002add3343cfad676a8ab6d75d29",
       "tooltip": "visualization_type"
      }
     },
     "c7ceb168327344c1bb808878f873fd8e": {
      "model_module": "@jupyter-widgets/base",
      "model_module_version": "2.0.0",
      "model_name": "LayoutModel",
      "state": {
       "width": "100%"
      }
     },
     "cb7e677b5db04153bb1d9ecc35fe55be": {
      "model_module": "@jupyter-widgets/base",
      "model_module_version": "2.0.0",
      "model_name": "LayoutModel",
      "state": {
       "grid_area": "left-sidebar"
      }
     },
     "cb9db6d0c0a145bb8dc4deea6d69c89f": {
      "model_module": "jupyter-leaflet",
      "model_module_version": "^0.20",
      "model_name": "LeafletMapStyleModel",
      "state": {
       "_model_module_version": "^0.20",
       "cursor": "move"
      }
     },
     "cbf92eb39c5c47f1ad615d65ab6bbefe": {
      "model_module": "@jupyter-widgets/controls",
      "model_module_version": "2.0.0",
      "model_name": "DescriptionStyleModel",
      "state": {
       "description_width": ""
      }
     },
     "cc903a7cae904f179f7757d3fd9872ac": {
      "model_module": "jupyter-leaflet",
      "model_module_version": "^0.20",
      "model_name": "LeafletMapStyleModel",
      "state": {
       "_model_module_version": "^0.20"
      }
     },
     "cd63b8acfb08473aaf211783544e6678": {
      "model_module": "@jupyter-widgets/base",
      "model_module_version": "2.0.0",
      "model_name": "LayoutModel",
      "state": {
       "width": "500px"
      }
     },
     "d2ceeacab29f429eb5a0607fb5490410": {
      "model_module": "@jupyter-widgets/controls",
      "model_module_version": "2.0.0",
      "model_name": "LabelStyleModel",
      "state": {
       "description_width": "",
       "font_family": null,
       "font_size": null,
       "font_style": null,
       "font_variant": null,
       "font_weight": null,
       "text_color": null,
       "text_decoration": null
      }
     },
     "d3f7199b2cfe4a07a591d7aae4912767": {
      "model_module": "@jupyter-widgets/base",
      "model_module_version": "2.0.0",
      "model_name": "LayoutModel",
      "state": {
       "width": "100%"
      }
     },
     "d6444741c39a4db6b9d6eb09a30600b2": {
      "model_module": "@jupyter-widgets/controls",
      "model_module_version": "2.0.0",
      "model_name": "VBoxModel",
      "state": {
       "children": [
        "IPY_MODEL_374fb9bbef924397bbed1a2fad1a1ce4"
       ],
       "layout": "IPY_MODEL_7e2953ad87aa426a9402e77a4636a063"
      }
     },
     "d663f13190464f489b96bcce24b5ca88": {
      "model_module": "@jupyter-widgets/base",
      "model_module_version": "2.0.0",
      "model_name": "LayoutModel",
      "state": {}
     },
     "d7ee7d744b4e40fb81e9fc70f3567b6d": {
      "model_module": "@jupyter-widgets/controls",
      "model_module_version": "2.0.0",
      "model_name": "LabelStyleModel",
      "state": {
       "description_width": "",
       "font_family": null,
       "font_size": null,
       "font_style": null,
       "font_variant": null,
       "font_weight": null,
       "text_color": null,
       "text_decoration": null
      }
     },
     "d8c6f8cae89c419984fa0158092d3d84": {
      "model_module": "@jupyter-widgets/controls",
      "model_module_version": "2.0.0",
      "model_name": "LabelStyleModel",
      "state": {
       "description_width": "",
       "font_family": null,
       "font_size": null,
       "font_style": null,
       "font_variant": null,
       "font_weight": null,
       "text_color": null,
       "text_decoration": null
      }
     },
     "d9d2bf8c44774687b03a056a9973b9ae": {
      "model_module": "@jupyter-widgets/base",
      "model_module_version": "2.0.0",
      "model_name": "LayoutModel",
      "state": {}
     },
     "db772f0ad8ee4cd18fc1c312691da285": {
      "model_module": "@jupyter-widgets/base",
      "model_module_version": "2.0.0",
      "model_name": "LayoutModel",
      "state": {
       "width": "100%"
      }
     },
     "dc3f752135814403910ec433d7758207": {
      "model_module": "@jupyter-widgets/controls",
      "model_module_version": "2.0.0",
      "model_name": "ButtonStyleModel",
      "state": {
       "font_family": null,
       "font_size": null,
       "font_style": null,
       "font_variant": null,
       "font_weight": null,
       "text_color": null,
       "text_decoration": null
      }
     },
     "de80122f3ae84995a0718076e282c17e": {
      "model_module": "@jupyter-widgets/controls",
      "model_module_version": "2.0.0",
      "model_name": "VBoxModel",
      "state": {
       "children": [
        "IPY_MODEL_83836adca06349ca897598f27e4c1319",
        "IPY_MODEL_39d75e13bbbd48269120c43582f26d5a"
       ],
       "layout": "IPY_MODEL_f3257cb7025d46be9d9cc39de613931b"
      }
     },
     "df177e849cb34bb586637118578224c9": {
      "model_module": "@jupyter-widgets/base",
      "model_module_version": "2.0.0",
      "model_name": "LayoutModel",
      "state": {
       "width": "100%"
      }
     },
     "e04f6bffd04149c49ee3ba68d46d3f17": {
      "model_module": "jupyter-leaflet",
      "model_module_version": "^0.20",
      "model_name": "LeafletLayersControlModel",
      "state": {
       "_model_module_version": "^0.20",
       "_view_module_version": "^0.20",
       "collapsed": true,
       "options": [
        "collapsed",
        "position"
       ],
       "position": "topright"
      }
     },
     "e3a3764429754b5ebc819b92faa8dd69": {
      "model_module": "@jupyter-widgets/controls",
      "model_module_version": "2.0.0",
      "model_name": "DescriptionStyleModel",
      "state": {
       "description_width": ""
      }
     },
     "eb7981b1555e4f7d8ffc0ab546d270a1": {
      "model_module": "@jupyter-widgets/base",
      "model_module_version": "2.0.0",
      "model_name": "LayoutModel",
      "state": {
       "width": "100%"
      }
     },
     "eceb74159e0142f0b43e3ed5e428a00b": {
      "model_module": "@jupyter-widgets/controls",
      "model_module_version": "2.0.0",
      "model_name": "TextStyleModel",
      "state": {
       "description_width": "",
       "font_size": null,
       "text_color": null
      }
     },
     "ed7f7d6c06884cb0a9be1633475a8228": {
      "model_module": "@jupyter-widgets/base",
      "model_module_version": "2.0.0",
      "model_name": "LayoutModel",
      "state": {
       "width": "100%"
      }
     },
     "ee655543c3c94df0aeecedb37f3f4081": {
      "model_module": "@jupyter-widgets/controls",
      "model_module_version": "2.0.0",
      "model_name": "LabelStyleModel",
      "state": {
       "description_width": "",
       "font_family": null,
       "font_size": null,
       "font_style": null,
       "font_variant": null,
       "font_weight": null,
       "text_color": null,
       "text_decoration": null
      }
     },
     "eed8f8691fad442f95ca95cfcb0d37c8": {
      "model_module": "jupyter-leaflet",
      "model_module_version": "^0.20",
      "model_name": "LeafletAttributionControlModel",
      "state": {
       "_model_module_version": "^0.20",
       "_view_module_version": "^0.20",
       "options": [
        "position",
        "prefix"
       ],
       "position": "bottomright",
       "prefix": "ipyleaflet"
      }
     },
     "f0236db42dc24a9996d36f00a8389d2d": {
      "model_module": "@jupyter-widgets/base",
      "model_module_version": "2.0.0",
      "model_name": "LayoutModel",
      "state": {
       "width": "100%"
      }
     },
     "f049d2d3504e4114b497255461740696": {
      "model_module": "@jupyter-widgets/base",
      "model_module_version": "2.0.0",
      "model_name": "LayoutModel",
      "state": {
       "width": "100%"
      }
     },
     "f15846dd98d44837b9e139e1accd18d5": {
      "model_module": "@jupyter-widgets/base",
      "model_module_version": "2.0.0",
      "model_name": "LayoutModel",
      "state": {
       "grid_template_areas": "\"left-sidebar center center\"",
       "grid_template_columns": "1fr 3fr 0fr",
       "grid_template_rows": "3fr"
      }
     },
     "f1bd9271109140eaa0f7893dfef35734": {
      "model_module": "@jupyter-widgets/controls",
      "model_module_version": "2.0.0",
      "model_name": "VBoxModel",
      "state": {
       "children": [
        "IPY_MODEL_5a36b455ed954225bd7ba23a1aca5451"
       ],
       "layout": "IPY_MODEL_7e2953ad87aa426a9402e77a4636a063"
      }
     },
     "f3257cb7025d46be9d9cc39de613931b": {
      "model_module": "@jupyter-widgets/base",
      "model_module_version": "2.0.0",
      "model_name": "LayoutModel",
      "state": {
       "width": "100%"
      }
     },
     "f3eb8cbabc53440daeab47bf5c7aed49": {
      "model_module": "@jupyter-widgets/base",
      "model_module_version": "2.0.0",
      "model_name": "LayoutModel",
      "state": {
       "width": "100%"
      }
     },
     "f5859ab106a14006b7f42d1adf50f006": {
      "model_module": "@jupyter-widgets/base",
      "model_module_version": "2.0.0",
      "model_name": "LayoutModel",
      "state": {
       "width": "100%"
      }
     },
     "f5dddf32fee54f6eb24f3598f4533361": {
      "model_module": "jupyter-leaflet",
      "model_module_version": "^0.20",
      "model_name": "LeafletWidgetControlModel",
      "state": {
       "_model_module_version": "^0.20",
       "_view_module_version": "^0.20",
       "options": [
        "position",
        "transparent_bg"
       ],
       "position": "topright",
       "widget": "IPY_MODEL_3fb752cc344a46398f5f30cba084c26e"
      }
     },
     "f6a534aeab0e4d80b89c076faa5271fc": {
      "model_module": "@jupyter-widgets/controls",
      "model_module_version": "2.0.0",
      "model_name": "SliderStyleModel",
      "state": {
       "description_width": ""
      }
     },
     "f92d002add3343cfad676a8ab6d75d29": {
      "model_module": "@jupyter-widgets/controls",
      "model_module_version": "2.0.0",
      "model_name": "TextStyleModel",
      "state": {
       "description_width": "",
       "font_size": null,
       "text_color": null
      }
     },
     "fba21ab654004bfaa950302d1ee45e41": {
      "model_module": "@jupyter-widgets/controls",
      "model_module_version": "2.0.0",
      "model_name": "AccordionModel",
      "state": {
       "children": [
        "IPY_MODEL_b0668bb96cb744eca947ce83b88e7736"
       ],
       "layout": "IPY_MODEL_9ce0aca8058e42fb88cc574ad3933ae4",
       "titles": [
        "Hillshade Model"
       ]
      }
     },
     "fce4ab7f17e84931844cacd2e623eba3": {
      "model_module": "@jupyter-widgets/controls",
      "model_module_version": "2.0.0",
      "model_name": "DropdownModel",
      "state": {
       "_options_labels": [
        "Hillshade Model",
        "Slope Map",
        "Hillshade Model + Slope Map"
       ],
       "index": 0,
       "layout": "IPY_MODEL_65494a9cc3754eab8e18cb9ad6837290",
       "style": "IPY_MODEL_10e730deb63e4e25981170197f062f5b"
      }
     },
     "ff7388f3d2ac4ea696659b45964f0174": {
      "model_module": "@jupyter-widgets/base",
      "model_module_version": "2.0.0",
      "model_name": "LayoutModel",
      "state": {
       "width": "100%"
      }
     }
    },
    "version_major": 2,
    "version_minor": 0
   }
  }
 },
 "nbformat": 4,
 "nbformat_minor": 5
}
