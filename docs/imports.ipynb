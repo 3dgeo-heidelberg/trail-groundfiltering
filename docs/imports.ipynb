{
 "cells": [
  {
   "cell_type": "markdown",
   "id": "588d97fa",
   "metadata": {},
   "source": [
    "# Imports"
   ]
  },
  {
   "cell_type": "markdown",
   "id": "76a866c4",
   "metadata": {},
   "source": [
    "This notebook tests if the installation was successful by importing the required libraries."
   ]
  },
  {
   "cell_type": "code",
   "execution_count": null,
   "id": "086034ad",
   "metadata": {},
   "outputs": [],
   "source": [
    "# imports\n",
    "import helios\n",
    "import afwizard"
   ]
  }
 ],
 "metadata": {
  "kernelspec": {
   "display_name": "afwizard",
   "language": "python",
   "name": "python3"
  },
  "language_info": {
   "name": "python",
   "version": "3.12.10"
  }
 },
 "nbformat": 4,
 "nbformat_minor": 5
}
