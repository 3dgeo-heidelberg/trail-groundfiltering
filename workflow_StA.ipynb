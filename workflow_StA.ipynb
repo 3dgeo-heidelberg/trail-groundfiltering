{
 "cells": [
  {
   "cell_type": "markdown",
   "id": "b2e60cc8-0336-46c5-b721-0c3194816faf",
   "metadata": {},
   "source": [
    "# Study case 2: Monastery St. Anna & Scharfeneck Ruin, AT"
   ]
  },
  {
   "cell_type": "markdown",
   "id": "49f6ff9f-2ed4-414a-b31a-38f4508ff90c",
   "metadata": {},
   "source": [
    "## About the dataset\n",
    "\n",
    "This LiDAR dataset covers an area in the nature park Mannersdorf-Wüste in Eastern Austria and includes the monastery St. Anna and the Scharfeneck Ruin. It has a point density of approximately 9 pts/m$^2$."
   ]
  },
  {
   "cell_type": "markdown",
   "id": "43e5062e-c64b-4d22-946e-6cab1e792dbf",
   "metadata": {
    "tags": []
   },
   "source": [
    "## 1. Import `afwizard`, set parameters and load your dataset\n",
    "First, we import the afwizard library:"
   ]
  },
  {
   "cell_type": "code",
   "execution_count": null,
   "id": "c38b8951-5a82-4ac1-87fe-d02b3021eef4",
   "metadata": {},
   "outputs": [],
   "source": [
    "import afwizard as af"
   ]
  },
  {
   "cell_type": "markdown",
   "id": "04908407-374b-43b2-a843-3afff77d422d",
   "metadata": {},
   "source": [
    "Now, we have to set the LAStools directory to the path where we installed LAStools. This may be a different location on your computer, so you will have to provide the correct path:"
   ]
  },
  {
   "cell_type": "code",
   "execution_count": null,
   "id": "71bb248c-3743-4e1d-9638-5a2e81c99fd5",
   "metadata": {},
   "outputs": [],
   "source": [
    "af.set_lastools_directory(\"C:/LAStools\")"
   ]
  },
  {
   "cell_type": "markdown",
   "id": "92ac6fea-9fe5-42c2-8195-546444407810",
   "metadata": {},
   "source": [
    "The next steps are to create the directory \"filters\", where we will later save our developed filter pipelines. After that, we set the directory where the input data is located and where the output data will be written. In case, the directory is not existing, it will be created. "
   ]
  },
  {
   "cell_type": "code",
   "execution_count": null,
   "id": "ab12339b-6dbc-495f-928b-f214597824bd",
   "metadata": {},
   "outputs": [],
   "source": [
    "af.set_data_directory(\"filters\", create_dir=True)"
   ]
  },
  {
   "cell_type": "code",
   "execution_count": null,
   "id": "4ceabcac-dda0-431c-a508-4c4ed7a59c0d",
   "metadata": {},
   "outputs": [],
   "source": [
    "af.set_data_directory(\"data\", create_dir=True)"
   ]
  },
  {
   "cell_type": "markdown",
   "id": "665109c9-f6a3-4e25-aac0-7ebc648ea86a",
   "metadata": {},
   "source": [
    "Now we can load our first dataset by file name and additionally provide the spatial reference system. Make sure that the data are copied to your data directory specified just before. "
   ]
  },
  {
   "cell_type": "code",
   "execution_count": null,
   "id": "63c204cb-a638-44c9-9a9a-6306f7fad2aa",
   "metadata": {
    "tags": []
   },
   "outputs": [],
   "source": [
    "ds = af.DataSet(filename=\"StA_last.laz\", spatial_reference=\"EPSG:31256\")"
   ]
  },
  {
   "cell_type": "markdown",
   "id": "f3397fab-1107-4c26-9988-00f0f49ed71b",
   "metadata": {},
   "source": [
    "We remove any existing classification from the dataset."
   ]
  },
  {
   "cell_type": "code",
   "execution_count": null,
   "id": "1102fcab-fa2e-41e3-bde8-660707fb0a5c",
   "metadata": {},
   "outputs": [],
   "source": [
    "ds = af.remove_classification(ds)"
   ]
  },
  {
   "cell_type": "markdown",
   "id": "fe76be66-7b75-463d-9897-fbc82a064e7d",
   "metadata": {
    "tags": []
   },
   "source": [
    "## 2. Restricting datasets"
   ]
  },
  {
   "cell_type": "markdown",
   "id": "8294616e-91f5-4e96-a978-24628d407f45",
   "metadata": {},
   "source": [
    "In the case of this dataset, there is only one segment. Still, we have to load a GeoJSON file containing a pre-prepared segmentation (in this case with just one segment) of the LiDAR tile. In case you want to produce your own segmentation, you can use e.g. QGIS: create a new shapefile layer, draw the segments (the shapes must not overlap and there must not be areas in your dataset not covered by a segment) and export the layer as GeoJSON. "
   ]
  },
  {
   "cell_type": "code",
   "execution_count": null,
   "id": "f383fa3f-6250-4285-a105-53808979bc5b",
   "metadata": {},
   "outputs": [],
   "source": [
    "segmentation = af.load_segmentation(\n",
    "    \"StA_segment.geojson\", spatial_reference=\"EPSG:31256\"\n",
    ")"
   ]
  },
  {
   "cell_type": "markdown",
   "id": "c8111f5c-9777-4ef9-b2c3-bc9e2ed073fd",
   "metadata": {},
   "source": [
    "Since the segments in the segmentation may cover large areas and contain many points, we can sample our segments using the `restrict` method of `afwizard`. This will make the process of creating filter pipelines much faster! \n",
    "The aim is to select characteristic subareas running the following command. The command will open a GUI showing the segment on a map. If you want to see a draft hillshade version of the DTM, click on \"Visualize\". \n",
    "\n",
    "Click the small polygon on the sidebar on the left to draw a segmentation polygon for an area of interest. When you are done, finish by clicking \"Finalize\". Your restricted dataset is then saved to the variable `rds`. Save the data by executing the next code cell \"`(saved = rds.save(...))`\". If you do not draw a polygon, the entire tile will be used in the next steps."
   ]
  },
  {
   "cell_type": "code",
   "execution_count": null,
   "id": "d8b985d8-e6b7-41ba-ba4f-13413a75d068",
   "metadata": {
    "tags": []
   },
   "outputs": [],
   "source": [
    "rds = ds.restrict(segmentation_overlay=segmentation)"
   ]
  },
  {
   "cell_type": "code",
   "execution_count": null,
   "id": "0e9029eb-95aa-42e6-b17f-7c85ddf6b835",
   "metadata": {},
   "outputs": [],
   "source": [
    "saved = rds.save(\"data/sample_StA.las\", overwrite=True)"
   ]
  },
  {
   "cell_type": "markdown",
   "id": "d8b55610-e184-4cc8-b663-3e7817dd0533",
   "metadata": {},
   "source": [
    "## 3. Creating filter pipelines"
   ]
  },
  {
   "cell_type": "markdown",
   "id": "65ad0382-91da-4b28-80dc-8a750d36493d",
   "metadata": {},
   "source": [
    "Now we can create a filter pipelines for the restricted dataset we created before. This is done using the interactive `pipeline_tuning` function. Here, you can select from different outlier filtering and ground filtering algorithms and combine them in a sequential filter pipeline. You can preview the result of different versions of your pipelines and delete filtering steps if it turns out they are not needed or need different settings. "
   ]
  },
  {
   "cell_type": "code",
   "execution_count": null,
   "id": "9dbe6241-f04b-48a8-878d-90e71be37a0d",
   "metadata": {},
   "outputs": [],
   "source": [
    "sampledataset1 = af.DataSet(filename=\"data/sample_StA.las\", spatial_reference=\"EPSG:31256\")"
   ]
  },
  {
   "cell_type": "markdown",
   "id": "7d262e82-a513-4682-b9b4-94635c754415",
   "metadata": {},
   "source": [
    "The following command will open the GUI for creating a filter pipeline. In the centre, the point cloud of the spatial sample is visualized as hillshade, slope or a combination of both. Visualization settings can be tuned using the fields in the right column. \n",
    "\n",
    "In the center, a tab (#0) with an image is displayed showing the unclassified data as hillshade.\n",
    "\n",
    "In the left column, a filter can be added to the pipeline. Click on \"Pipeline stages\" and then on \"+ Add entry\" and select the filter algorithm of your choice (here: lasground_new (LASTools)). Finally, you can set the parameters (offset, spike, step). Here, we let them at their defaut values. (0, 0.5, 1). Clicking \"Preview\" button on top of the right column will trigger the filtering of the sample using the current filter and parameter strings and display the result as a new window in tab \"#1\" in the centre column (with the preset hillshade at 45° altitude and 0.2 m resolution)."
   ]
  },
  {
   "cell_type": "code",
   "execution_count": null,
   "id": "c0e61b2a-1bac-473f-95f3-3991f2ec2d70",
   "metadata": {},
   "outputs": [],
   "source": [
    "pipeline1 = af.pipeline_tuning(sampledataset1)"
   ]
  },
  {
   "cell_type": "code",
   "execution_count": null,
   "id": "77411e17-d5b1-419b-a1da-21f4cea2b74b",
   "metadata": {},
   "outputs": [],
   "source": [
    "af.set_data_directory(\"filters\", create_dir=True)\n",
    "af.save_filter(pipeline1, \"filters/StA_woodland.json\")"
   ]
  },
  {
   "cell_type": "markdown",
   "id": "f8d3b6a7-f440-4d59-9fd6-62b21da3f0fd",
   "metadata": {},
   "source": [
    "## 4. Mapping segmentations to Filter Pipelines"
   ]
  },
  {
   "cell_type": "markdown",
   "id": "a3c6fd3e-40bf-483c-9235-b28acd4131e8",
   "metadata": {},
   "source": [
    "Now we map the created filter pipelines to the segmentations."
   ]
  },
  {
   "cell_type": "code",
   "execution_count": null,
   "id": "44778abd-069e-4859-bbd1-cc3f788357d2",
   "metadata": {},
   "outputs": [],
   "source": [
    "af.add_filter_library(path=\"filters\", recursive=False)"
   ]
  },
  {
   "cell_type": "markdown",
   "id": "5f18d83f-14fd-4653-b3a1-b006d11ab4f8",
   "metadata": {},
   "source": [
    "Using the selection window below, select the pipeline you created before. Finish the interactive step by clicking \"Finalize\"."
   ]
  },
  {
   "cell_type": "code",
   "execution_count": null,
   "id": "88d9508b-c9c4-42a9-97ab-4db666fea0ae",
   "metadata": {},
   "outputs": [],
   "source": [
    "pipelines = af.select_pipeline_from_library(\"filters\")"
   ]
  },
  {
   "cell_type": "markdown",
   "id": "0118bf86-84ee-445e-8091-fa781c9dd42d",
   "metadata": {},
   "source": [
    "In this stage, you select which pipeline to assign to which segment. As we have only one segment, on the top right, you leave the dropdown menu to \"ID\". In the dropdown menu below the segment, select the corresponding filter you created. When you are done with assigning, click \"Finalize\". Then run the next code cell to save the segments together with their assigned filter pipeline."
   ]
  },
  {
   "cell_type": "code",
   "execution_count": null,
   "id": "09e976ba-9142-43c2-a2d6-b6e402efd64a",
   "metadata": {},
   "outputs": [],
   "source": [
    "assigned_segmentation = af.assign_pipeline(\n",
    "    ds, segmentation=segmentation, pipelines=pipelines\n",
    ")"
   ]
  },
  {
   "cell_type": "code",
   "execution_count": null,
   "id": "30ae084e-b921-4313-8ae6-2d4638e5383c",
   "metadata": {},
   "outputs": [],
   "source": [
    "af.set_data_directory(\"data\", create_dir=True)\n",
    "assigned_segmentation.save(\"data/StA_segments_assigned.geojson\")"
   ]
  },
  {
   "cell_type": "markdown",
   "id": "4db647b6-8dba-4323-86bb-4b218cdbf097",
   "metadata": {},
   "source": [
    "## 5. Adaptive filtering by running AFwizard  "
   ]
  },
  {
   "cell_type": "markdown",
   "id": "9106a7b0-928a-4c89-907c-8b94374154be",
   "metadata": {},
   "source": [
    "Finally, the adaptive filtering has to be calculated. This is done on a command line basis. Therefore, open a new Tab using the \"+\" symbol next to the top of this window and cklick on \"Terminal\". \n",
    "\n",
    "ATTENTION: the directories refer relatively to the directory of the prompt in the terminal!\n",
    "\n",
    "In the example below, the prompt is executed from `.../trail-groundfiltering`.\n",
    "Filesystem is:\n",
    "\n",
    "- `.../trail-groundfiltering`\n",
    "- `.../trail-groundfiltering/data`\n",
    "- `.../trail-groundfiltering/filters`  \n",
    "\n",
    "Note:\n",
    "- file `StA_last.laz` is in directory `data`\n",
    "- file `StA_segments_assigned.geojson` is in directory `data`\n",
    "- Directory `output` will be created in `data/output`\n",
    "- filters are stored in `filters`\n",
    "\n",
    "```bash\n",
    "afwizard --dataset=data/StA_last.laz --dataset-crs=EPSG:31256 --segmentation=data/StA_segment_assigned.geojson --segmentation-crs=EPSG:31256 --output-dir=data/output --library filters --lastools-dir=\"C:\\LAStools\"\n",
    "```"
   ]
  },
  {
   "cell_type": "code",
   "execution_count": null,
   "id": "9e8a1128-6ead-49ad-beff-5dbaa55ad000",
   "metadata": {},
   "outputs": [],
   "source": [
    "!afwizard --dataset=data/StA_last.laz --dataset-crs=EPSG:31256 --segmentation=data/StA_segments_assigned.geojson --segmentation-crs=EPSG:31256 --output-dir=data/output --library filters --lastools-dir=\"C:/LAStools\""
   ]
  },
  {
   "cell_type": "code",
   "execution_count": null,
   "id": "f5a2e7c7-22b4-4a8f-9205-3e19ab5e2348",
   "metadata": {},
   "outputs": [],
   "source": []
  }
 ],
 "metadata": {
  "kernelspec": {
   "display_name": "Python 3 (ipykernel)",
   "language": "python",
   "name": "python3"
  },
  "language_info": {
   "codemirror_mode": {
    "name": "ipython",
    "version": 3
   },
   "file_extension": ".py",
   "mimetype": "text/x-python",
   "name": "python",
   "nbconvert_exporter": "python",
   "pygments_lexer": "ipython3",
   "version": "3.13.7"
  },
  "widgets": {
   "application/vnd.jupyter.widget-state+json": {
    "state": {},
    "version_major": 2,
    "version_minor": 0
   }
  }
 },
 "nbformat": 4,
 "nbformat_minor": 5
}
